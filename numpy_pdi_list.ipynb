{
  "nbformat": 4,
  "nbformat_minor": 0,
  "metadata": {
    "colab": {
      "provenance": [],
      "collapsed_sections": [
        "au8YLC-6At3F"
      ]
    },
    "kernelspec": {
      "name": "python3",
      "display_name": "Python 3"
    },
    "language_info": {
      "name": "python"
    }
  },
  "cells": [
    {
      "cell_type": "markdown",
      "source": [
        "# LISTA NUMPY\n",
        "\n",
        "Aluno: Rafael Emílio"
      ],
      "metadata": {
        "id": "YoG8mCL4PB5m"
      }
    },
    {
      "cell_type": "code",
      "source": [
        "import numpy as np\n",
        "import matplotlib.pyplot as plt\n",
        "import pandas as pd"
      ],
      "metadata": {
        "id": "oxJuiIpLA6W6"
      },
      "execution_count": null,
      "outputs": []
    },
    {
      "cell_type": "markdown",
      "source": [
        "# NumPy Array"
      ],
      "metadata": {
        "id": "au8YLC-6At3F"
      }
    },
    {
      "cell_type": "markdown",
      "source": [
        "How to create an empty and a full NumPy array?"
      ],
      "metadata": {
        "id": "sgpdBhxnAz4g"
      }
    },
    {
      "cell_type": "code",
      "execution_count": null,
      "metadata": {
        "colab": {
          "base_uri": "https://localhost:8080/"
        },
        "id": "T4UqUWOzAftj",
        "outputId": "fb4bc536-67c3-47fb-f0ab-47c53a2a1874"
      },
      "outputs": [
        {
          "output_type": "stream",
          "name": "stdout",
          "text": [
            "[2.167613e-316 0.000000e+000 0.000000e+000 0.000000e+000] \n",
            "\n",
            "[10 10 10 10]\n"
          ]
        }
      ],
      "source": [
        "empty = np.empty((4))\n",
        "print(empty, '\\n')\n",
        "\n",
        "full = np.full([4], 10)\n",
        "print(full)\n"
      ]
    },
    {
      "cell_type": "markdown",
      "source": [
        "Create a Numpy array filled with all zeros"
      ],
      "metadata": {
        "id": "uTYVi1q-CssZ"
      }
    },
    {
      "cell_type": "code",
      "source": [
        "zeros_with_full = np.full([4], 0)\n",
        "print(zeros_with_full, '\\n')\n",
        "\n",
        "zeros = np.zeros((4))\n",
        "\n",
        "print(zeros)"
      ],
      "metadata": {
        "colab": {
          "base_uri": "https://localhost:8080/"
        },
        "id": "64ekQLyQCtmy",
        "outputId": "a16f4960-d0b9-4e82-9c75-0ac59d31b0cd"
      },
      "execution_count": null,
      "outputs": [
        {
          "output_type": "stream",
          "name": "stdout",
          "text": [
            "[0 0 0 0] \n",
            "\n",
            "[0. 0. 0. 0.]\n"
          ]
        }
      ]
    },
    {
      "cell_type": "markdown",
      "source": [
        "Create a Numpy array filled with all ones"
      ],
      "metadata": {
        "id": "wNSjj6JrCAV7"
      }
    },
    {
      "cell_type": "code",
      "source": [
        "ones_with_full = np.full([4], 1)\n",
        "print(ones_with_full, '\\n')\n",
        "\n",
        "ones = np.ones((4))\n",
        "\n",
        "print(ones)"
      ],
      "metadata": {
        "colab": {
          "base_uri": "https://localhost:8080/"
        },
        "id": "NWli3X_3CF9F",
        "outputId": "30c6643a-2833-4b9a-c6f8-981c28f97332"
      },
      "execution_count": null,
      "outputs": [
        {
          "output_type": "stream",
          "name": "stdout",
          "text": [
            "[1 1 1 1] \n",
            "\n",
            "[1. 1. 1. 1.]\n"
          ]
        }
      ]
    },
    {
      "cell_type": "markdown",
      "source": [
        "Check whether a Numpy array contains a specified row"
      ],
      "metadata": {
        "id": "QaSl-VhjC3IO"
      }
    },
    {
      "cell_type": "code",
      "source": [
        "x = np.array([[1, 2, 3], [4, 5, 6], [7, 8, 9],])\n",
        "\n",
        "print(x, '\\n')\n",
        "\n",
        "print([1, 2, 3] in x.tolist())\n",
        "print([1] in x.tolist())\n",
        "print([5, 6, 7] in x.tolist())\n",
        "print([7, 8, 9] in x.tolist())"
      ],
      "metadata": {
        "colab": {
          "base_uri": "https://localhost:8080/"
        },
        "id": "6aF9TPdwC6uS",
        "outputId": "af603470-42a4-496e-cd31-ee2ccc6bbe20"
      },
      "execution_count": null,
      "outputs": [
        {
          "output_type": "stream",
          "name": "stdout",
          "text": [
            "[[1 2 3]\n",
            " [4 5 6]\n",
            " [7 8 9]] \n",
            "\n",
            "True\n",
            "False\n",
            "False\n",
            "True\n"
          ]
        }
      ]
    },
    {
      "cell_type": "markdown",
      "source": [
        "How to Remove rows in Numpy array that contains non-numeric values?"
      ],
      "metadata": {
        "id": "6wi5Jz-7CKmC"
      }
    },
    {
      "cell_type": "code",
      "source": [
        "y = np.array([[1,2,3], [4,5,np.nan], [7,8,9], [True, False, True]])\n",
        "print(y, '\\n')\n",
        "\n",
        "# removendo valores não-numéricos do array\n",
        "print(y[~np.isnan(y).any(axis=1)])\n"
      ],
      "metadata": {
        "colab": {
          "base_uri": "https://localhost:8080/"
        },
        "id": "LlWcGWUgECUu",
        "outputId": "5f8686e6-ef0e-4ffc-b953-c1f018db6f7d"
      },
      "execution_count": null,
      "outputs": [
        {
          "output_type": "stream",
          "name": "stdout",
          "text": [
            "[[ 1.  2.  3.]\n",
            " [ 4.  5. nan]\n",
            " [ 7.  8.  9.]\n",
            " [ 1.  0.  1.]] \n",
            "\n",
            "[[1. 2. 3.]\n",
            " [7. 8. 9.]\n",
            " [1. 0. 1.]]\n"
          ]
        }
      ]
    },
    {
      "cell_type": "markdown",
      "source": [
        "Remove single-dimensional entries from the shape of an array"
      ],
      "metadata": {
        "id": "NvJptOtXFqLF"
      }
    },
    {
      "cell_type": "code",
      "source": [
        "z = np.array([[[1, 2, 3], [4, 5, 6]]])\n",
        "print(z, '\\n')\n",
        "print(z.shape, '\\n')\n",
        "\n",
        "result = np.squeeze(z)\n",
        "print(result, '\\n')\n",
        "print(result.shape)"
      ],
      "metadata": {
        "colab": {
          "base_uri": "https://localhost:8080/"
        },
        "id": "pBSVFKXcFrMR",
        "outputId": "04c28270-a2f7-421c-bf35-3da5a08bada1"
      },
      "execution_count": null,
      "outputs": [
        {
          "output_type": "stream",
          "name": "stdout",
          "text": [
            "[[[1 2 3]\n",
            "  [4 5 6]]] \n",
            "\n",
            "(1, 2, 3) \n",
            "\n",
            "[[1 2 3]\n",
            " [4 5 6]] \n",
            "\n",
            "(2, 3)\n"
          ]
        }
      ]
    },
    {
      "cell_type": "markdown",
      "source": [
        "Find the number of occurrences of a sequence in a NumPy array"
      ],
      "metadata": {
        "id": "MCsu2mCWHtYR"
      }
    },
    {
      "cell_type": "code",
      "source": [
        "a = np.array([[1, 2, 3], [4, 2, 3], [5, 1, 2], [2, 3, 6]])\n",
        "\n",
        "count_2_3 = repr(a).count(\"2, 3\")\n",
        "count_1_2 = repr(a).count(\"1, 2\")\n",
        "\n",
        "print(\"Total sequência 2, 3:\", count_2_3)\n",
        "print(\"Total sequência 1, 2:\", count_1_2)"
      ],
      "metadata": {
        "colab": {
          "base_uri": "https://localhost:8080/"
        },
        "id": "zDs7qWmtHwR3",
        "outputId": "a89a5353-cbc0-4967-dbb3-0d4ee50a75c1"
      },
      "execution_count": null,
      "outputs": [
        {
          "output_type": "stream",
          "name": "stdout",
          "text": [
            "Total sequência 2, 3: 3\n",
            "Total sequência 1, 2: 2\n"
          ]
        }
      ]
    },
    {
      "cell_type": "markdown",
      "source": [
        "Find the most frequent value in a NumPy array"
      ],
      "metadata": {
        "id": "oxvMZ_2oJGiA"
      }
    },
    {
      "cell_type": "code",
      "source": [
        "b = np.array([7, 9, 2, 3, 1, 7, 2, 1, 7, 7, 4, 3, 7])\n",
        "most_freq = np.bincount(b).argmax()\n",
        "\n",
        "print(b, \"\\n\")\n",
        "print(\"O termo mais frequente é:\", most_freq)"
      ],
      "metadata": {
        "colab": {
          "base_uri": "https://localhost:8080/"
        },
        "id": "gLiOUKAwJHZz",
        "outputId": "c096dcec-03da-4fcc-d2fa-f14fbc20f395"
      },
      "execution_count": null,
      "outputs": [
        {
          "output_type": "stream",
          "name": "stdout",
          "text": [
            "[7 9 2 3 1 7 2 1 7 7 4 3 7] \n",
            "\n",
            "O termo mais frequente é: 7\n"
          ]
        }
      ]
    },
    {
      "cell_type": "markdown",
      "source": [
        "Combining a one and a two-dimensional NumPy Array"
      ],
      "metadata": {
        "id": "Oc0H-wbqJ_P6"
      }
    },
    {
      "cell_type": "code",
      "source": [
        "c1 = np.arange(5)\n",
        "c2 = np.arange(7, 17).reshape(2,5)\n",
        "print(f\"1d array: {c1}\\n\\n2d array:\\n{c2}\\n\")\n",
        "\n",
        "\n",
        "# Combine 1-D and 2-D arrays and display\n",
        "# their elements using numpy.nditer()\n",
        "for a, b in np.nditer([c1, c2]):\n",
        "    print(\"%d:%d\" % (a, b),)"
      ],
      "metadata": {
        "colab": {
          "base_uri": "https://localhost:8080/"
        },
        "id": "B4qWod3UJ-2A",
        "outputId": "268dd45f-f03b-48d5-9f26-e006b02505d8"
      },
      "execution_count": null,
      "outputs": [
        {
          "output_type": "stream",
          "name": "stdout",
          "text": [
            "1d array: [0 1 2 3 4]\n",
            "\n",
            "2d array:\n",
            "[[ 7  8  9 10 11]\n",
            " [12 13 14 15 16]]\n",
            "\n",
            "0:7\n",
            "1:8\n",
            "2:9\n",
            "3:10\n",
            "4:11\n",
            "0:12\n",
            "1:13\n",
            "2:14\n",
            "3:15\n",
            "4:16\n"
          ]
        }
      ]
    },
    {
      "cell_type": "markdown",
      "source": [
        "How to build an array of all combinations of two NumPy arrays?"
      ],
      "metadata": {
        "id": "2QOFWfDlLvUp"
      }
    },
    {
      "cell_type": "code",
      "source": [
        "comb_array = np.array(np.meshgrid(c1, c2)).T.reshape(-1, 2)\n",
        "print(comb_array)"
      ],
      "metadata": {
        "colab": {
          "base_uri": "https://localhost:8080/"
        },
        "id": "oMY6_hKjGYVW",
        "outputId": "faefaf08-3ac6-4b0c-baa1-4319330d3164"
      },
      "execution_count": 53,
      "outputs": [
        {
          "output_type": "stream",
          "name": "stdout",
          "text": [
            "[[ 0  7]\n",
            " [ 0  8]\n",
            " [ 0  9]\n",
            " [ 0 10]\n",
            " [ 0 11]\n",
            " [ 0 12]\n",
            " [ 0 13]\n",
            " [ 0 14]\n",
            " [ 0 15]\n",
            " [ 0 16]\n",
            " [ 1  7]\n",
            " [ 1  8]\n",
            " [ 1  9]\n",
            " [ 1 10]\n",
            " [ 1 11]\n",
            " [ 1 12]\n",
            " [ 1 13]\n",
            " [ 1 14]\n",
            " [ 1 15]\n",
            " [ 1 16]\n",
            " [ 2  7]\n",
            " [ 2  8]\n",
            " [ 2  9]\n",
            " [ 2 10]\n",
            " [ 2 11]\n",
            " [ 2 12]\n",
            " [ 2 13]\n",
            " [ 2 14]\n",
            " [ 2 15]\n",
            " [ 2 16]\n",
            " [ 3  7]\n",
            " [ 3  8]\n",
            " [ 3  9]\n",
            " [ 3 10]\n",
            " [ 3 11]\n",
            " [ 3 12]\n",
            " [ 3 13]\n",
            " [ 3 14]\n",
            " [ 3 15]\n",
            " [ 3 16]\n",
            " [ 4  7]\n",
            " [ 4  8]\n",
            " [ 4  9]\n",
            " [ 4 10]\n",
            " [ 4 11]\n",
            " [ 4 12]\n",
            " [ 4 13]\n",
            " [ 4 14]\n",
            " [ 4 15]\n",
            " [ 4 16]]\n"
          ]
        }
      ]
    },
    {
      "cell_type": "markdown",
      "source": [
        "How to add a border around a NumPy array?"
      ],
      "metadata": {
        "id": "rRaREciaLuXb"
      }
    },
    {
      "cell_type": "code",
      "source": [
        "print(x)\n",
        "\n",
        "print(\"\\n0 on the border and 1 inside the array\")\n",
        "\n",
        "# constructing border of 0 around 2D identity matrix\n",
        "# using np.pad()\n",
        "e = np.pad(x, pad_width=1, mode='constant',\n",
        "               constant_values= 10)\n",
        "\n",
        "print(e)"
      ],
      "metadata": {
        "colab": {
          "base_uri": "https://localhost:8080/"
        },
        "id": "r9pOL9wZMG6R",
        "outputId": "80003095-e9ee-475e-e979-68ec87997aca"
      },
      "execution_count": null,
      "outputs": [
        {
          "output_type": "stream",
          "name": "stdout",
          "text": [
            "[[1 2 3]\n",
            " [4 5 6]\n",
            " [7 8 9]]\n",
            "\n",
            "0 on the border and 1 inside the array\n",
            "[[10 10 10 10 10]\n",
            " [10  1  2  3 10]\n",
            " [10  4  5  6 10]\n",
            " [10  7  8  9 10]\n",
            " [10 10 10 10 10]]\n"
          ]
        }
      ]
    },
    {
      "cell_type": "markdown",
      "source": [
        "How to compare two NumPy arrays?"
      ],
      "metadata": {
        "id": "cWmKnS-KLikh"
      }
    },
    {
      "cell_type": "code",
      "source": [
        "# os arrays são iguais?\n",
        "f1 = np.array([[1, 2, 3], [4, 5, 6]])\n",
        "f2 = np.array([[1, 2, 3], [4, 5, 6]])\n",
        "f3 = np.array([[4, 2, 6], [7, 8, 9]])\n",
        "\n",
        "# comparando f1 e f2\n",
        "c_matrix = f1 == f2\n",
        "is_equal = c_matrix.all()\n",
        "\n",
        "print(c_matrix)\n",
        "print(is_equal)\n",
        "\n",
        "# comparando f2 e f3\n",
        "c_matrix2 = f2 == f3\n",
        "is_equal2 = c_matrix2.all()\n",
        "\n",
        "print(c_matrix2)\n",
        "print(is_equal2)\n"
      ],
      "metadata": {
        "colab": {
          "base_uri": "https://localhost:8080/"
        },
        "id": "RnC4AuDwLjOw",
        "outputId": "7af104c3-6d0b-4bde-eca7-f04145cd7651"
      },
      "execution_count": null,
      "outputs": [
        {
          "output_type": "stream",
          "name": "stdout",
          "text": [
            "[[ True  True  True]\n",
            " [ True  True  True]]\n",
            "True\n",
            "[[False  True False]\n",
            " [False False False]]\n",
            "False\n"
          ]
        }
      ]
    },
    {
      "cell_type": "markdown",
      "source": [
        "How to check whether specified values are present in NumPy array"
      ],
      "metadata": {
        "id": "O5SCNjVFOj6W"
      }
    },
    {
      "cell_type": "code",
      "source": [
        "print(x)\n",
        "\n",
        "searched_numbers = np.array([11, 3, 88, 2, 0, 4, 5])\n",
        "\n",
        "search_result = np.intersect1d(x, searched_numbers)\n",
        "\n",
        "print(\"Dos valores\", searched_numbers, \"encontramos: \",search_result)"
      ],
      "metadata": {
        "colab": {
          "base_uri": "https://localhost:8080/"
        },
        "id": "YW4OrdgXOkq0",
        "outputId": "99e92a1f-6166-4f4b-d6ce-7c56816600f7"
      },
      "execution_count": null,
      "outputs": [
        {
          "output_type": "stream",
          "name": "stdout",
          "text": [
            "[[1 2 3]\n",
            " [4 5 6]\n",
            " [7 8 9]]\n",
            "Dos valores [11  3 88  2  0  4  5] encontramos:  [2 3 4 5]\n"
          ]
        }
      ]
    },
    {
      "cell_type": "markdown",
      "source": [
        "How to get all 2D diagonals of a 3D NumPy array?"
      ],
      "metadata": {
        "id": "9LFtViKWP9dB"
      }
    },
    {
      "cell_type": "code",
      "source": [
        "x3d = np.arange(3 * 4 * 4).reshape(3, 4, 4)\n",
        "\n",
        "print(\"3d numpy array:\\n\", x3d, '\\n')\n",
        "\n",
        "# Create 2D diagonal array\n",
        "diag_2d = np.diagonal(x3d, axis1 = 1, axis2 = 2)\n",
        "\n",
        "print(\"2d diagonal array:\\n\", diag_2d)"
      ],
      "metadata": {
        "colab": {
          "base_uri": "https://localhost:8080/"
        },
        "id": "WMVfP0dnP-eA",
        "outputId": "cb888a2f-5f9c-4bb3-aea7-00d8fa890636"
      },
      "execution_count": null,
      "outputs": [
        {
          "output_type": "stream",
          "name": "stdout",
          "text": [
            "3d numpy array:\n",
            " [[[ 0  1  2  3]\n",
            "  [ 4  5  6  7]\n",
            "  [ 8  9 10 11]\n",
            "  [12 13 14 15]]\n",
            "\n",
            " [[16 17 18 19]\n",
            "  [20 21 22 23]\n",
            "  [24 25 26 27]\n",
            "  [28 29 30 31]]\n",
            "\n",
            " [[32 33 34 35]\n",
            "  [36 37 38 39]\n",
            "  [40 41 42 43]\n",
            "  [44 45 46 47]]] \n",
            "\n",
            "2d diagonal array:\n",
            " [[ 0  5 10 15]\n",
            " [16 21 26 31]\n",
            " [32 37 42 47]]\n"
          ]
        }
      ]
    },
    {
      "cell_type": "markdown",
      "source": [
        "Flatten a Matrix in Python using NumPy"
      ],
      "metadata": {
        "id": "EA-LahvaRuAF"
      }
    },
    {
      "cell_type": "code",
      "source": [
        "print(x3d)\n",
        "\n",
        "flat_x = x3d.flatten()\n",
        "print(flat_x)"
      ],
      "metadata": {
        "colab": {
          "base_uri": "https://localhost:8080/"
        },
        "id": "0G0ZhTNgRtBZ",
        "outputId": "26f05ab6-f2e3-4872-b4a1-dd300298ae3e"
      },
      "execution_count": null,
      "outputs": [
        {
          "output_type": "stream",
          "name": "stdout",
          "text": [
            "[[[ 0  1  2  3]\n",
            "  [ 4  5  6  7]\n",
            "  [ 8  9 10 11]\n",
            "  [12 13 14 15]]\n",
            "\n",
            " [[16 17 18 19]\n",
            "  [20 21 22 23]\n",
            "  [24 25 26 27]\n",
            "  [28 29 30 31]]\n",
            "\n",
            " [[32 33 34 35]\n",
            "  [36 37 38 39]\n",
            "  [40 41 42 43]\n",
            "  [44 45 46 47]]]\n",
            "[ 0  1  2  3  4  5  6  7  8  9 10 11 12 13 14 15 16 17 18 19 20 21 22 23\n",
            " 24 25 26 27 28 29 30 31 32 33 34 35 36 37 38 39 40 41 42 43 44 45 46 47]\n"
          ]
        }
      ]
    },
    {
      "cell_type": "markdown",
      "source": [
        "Flatten a 2d numpy array into 1d array"
      ],
      "metadata": {
        "id": "u3tUgcLfR6Gp"
      }
    },
    {
      "cell_type": "code",
      "source": [
        "x2d = np.array([[1, 2], [3, 4]])\n",
        "print(x2d)\n",
        "# using array.flatten() method\n",
        "flat_x2d = np.ravel(x2d)\n",
        "print(flat_x2d)"
      ],
      "metadata": {
        "colab": {
          "base_uri": "https://localhost:8080/"
        },
        "id": "KSxyUU1wR60Y",
        "outputId": "92887b79-857e-4a20-bb93-67b6771ff700"
      },
      "execution_count": null,
      "outputs": [
        {
          "output_type": "stream",
          "name": "stdout",
          "text": [
            "[[1 2]\n",
            " [3 4]]\n",
            "[1 2 3 4]\n"
          ]
        }
      ]
    },
    {
      "cell_type": "markdown",
      "source": [
        "Move axes of an array to new positions"
      ],
      "metadata": {
        "id": "V-7si9FqTDvE"
      }
    },
    {
      "cell_type": "code",
      "source": [
        "xy = np.array([[1, 2, 3, 4], [5, 6, 7, 8]])\n",
        "\n",
        "print(xy, xy.shape,\"\\n\")\n",
        "\n",
        "xy_move_axis = np.moveaxis(xy, 0, -1)\n",
        "\n",
        "print(xy_move_axis, xy_move_axis.shape)"
      ],
      "metadata": {
        "colab": {
          "base_uri": "https://localhost:8080/"
        },
        "id": "NOdACa7KTTS0",
        "outputId": "26304a16-5967-47c6-b40c-5896dddaec06"
      },
      "execution_count": null,
      "outputs": [
        {
          "output_type": "stream",
          "name": "stdout",
          "text": [
            "[[1 2 3 4]\n",
            " [5 6 7 8]] (2, 4) \n",
            "\n",
            "[[1 5]\n",
            " [2 6]\n",
            " [3 7]\n",
            " [4 8]] (4, 2)\n"
          ]
        }
      ]
    },
    {
      "cell_type": "markdown",
      "source": [
        "Interchange two axes of an array"
      ],
      "metadata": {
        "id": "0rTcyYY4Vleh"
      }
    },
    {
      "cell_type": "code",
      "source": [
        "interx = np.array([[1, 2, 3, 4, 5]])\n",
        "print(interx)\n",
        "intery =  np.swapaxes(interx,0,1)\n",
        "print(intery)"
      ],
      "metadata": {
        "colab": {
          "base_uri": "https://localhost:8080/"
        },
        "id": "B02yiPlLVnTt",
        "outputId": "13cfa044-b323-4305-bd9e-24d402715800"
      },
      "execution_count": null,
      "outputs": [
        {
          "output_type": "stream",
          "name": "stdout",
          "text": [
            "[[1 2 3 4 5]]\n",
            "[[1]\n",
            " [2]\n",
            " [3]\n",
            " [4]\n",
            " [5]]\n"
          ]
        }
      ]
    },
    {
      "cell_type": "markdown",
      "source": [
        "NumPy – Fibonacci Series using Binet Formula"
      ],
      "metadata": {
        "id": "oOpxxvNwWMoJ"
      }
    },
    {
      "cell_type": "code",
      "source": [
        "n = int(input(\"Quantos termos de fibbonacci você quer: \"))\n",
        "aux = np.arange(1, n+1)\n",
        "\n",
        "fivesqrt = np.sqrt(5)\n",
        "alpha = (1 + fivesqrt) / 2\n",
        "beta = (1 - fivesqrt) / 2\n",
        "\n",
        "fn = np.rint(((alpha ** aux) - (beta ** aux)) / (fivesqrt))\n",
        "print(\"Os primeiros {} termos de fibonacci são: {} . \".format(n, fn))"
      ],
      "metadata": {
        "colab": {
          "base_uri": "https://localhost:8080/"
        },
        "id": "KbrfKejoWNab",
        "outputId": "3b1cdd46-93ca-4c6c-938b-cc0053741269"
      },
      "execution_count": null,
      "outputs": [
        {
          "output_type": "stream",
          "name": "stdout",
          "text": [
            "Quantos termos de fibbonacci você quer: 5\n",
            "Os primeiros 5 termos de fibonacci são: [1. 1. 2. 3. 5.] . \n"
          ]
        }
      ]
    },
    {
      "cell_type": "markdown",
      "source": [
        "Counts the number of non-zero values in the array"
      ],
      "metadata": {
        "id": "tfytGklwX8gT"
      }
    },
    {
      "cell_type": "code",
      "source": [
        "z_array = np.array([[0, 1, 9], [1, 2, 0], [0, 0, 7]])\n",
        "\n",
        "print(z_array)\n",
        "\n",
        "nz_numbers = np.count_nonzero(z_array) # número de valores que não são zero\n",
        "\n",
        "print(\"Número de elementos não-zero:\", nz_numbers)"
      ],
      "metadata": {
        "colab": {
          "base_uri": "https://localhost:8080/"
        },
        "id": "cWoAeNCmX_co",
        "outputId": "bc20c8be-7567-4cb6-c62b-787fe6a3443b"
      },
      "execution_count": null,
      "outputs": [
        {
          "output_type": "stream",
          "name": "stdout",
          "text": [
            "[[0 1 9]\n",
            " [1 2 0]\n",
            " [0 0 7]]\n",
            "Número de elementos não-zero: 5\n"
          ]
        }
      ]
    },
    {
      "cell_type": "markdown",
      "source": [
        "Count the number of elements along a given axis"
      ],
      "metadata": {
        "id": "s22lcLMyZDZ9"
      }
    },
    {
      "cell_type": "code",
      "source": [
        "given_axis_array = np.array([[1, 2, 3, 4],[5, 6, 7, 8], [9, 10, 11, 12]])\n",
        "\n",
        "print(np.ma.size(given_axis_array, 0)) # axis 0\n",
        "print(np.ma.size(given_axis_array, 1)) # axis 1"
      ],
      "metadata": {
        "colab": {
          "base_uri": "https://localhost:8080/"
        },
        "id": "QBZHg6BLZEIQ",
        "outputId": "bf184797-646d-44d7-808c-538864029b15"
      },
      "execution_count": null,
      "outputs": [
        {
          "output_type": "stream",
          "name": "stdout",
          "text": [
            "3\n",
            "4\n"
          ]
        }
      ]
    },
    {
      "cell_type": "markdown",
      "source": [
        "Trim the leading and/or trailing zeros from a 1-D array"
      ],
      "metadata": {
        "id": "r091G8oGadZI"
      }
    },
    {
      "cell_type": "code",
      "source": [
        "trim_zero_array = np.array((0, 0, 0, 0, 0, 0, 7, 4, 2, 2, 0, 0, 3, 6, 2, 1, 0, 9, 0, 0, 0))\n",
        "\n",
        "print(trim_zero_array)\n",
        "\n",
        "res = np.trim_zeros(trim_zero_array)\n",
        "print(res)"
      ],
      "metadata": {
        "colab": {
          "base_uri": "https://localhost:8080/"
        },
        "id": "nQFZfrB7aexT",
        "outputId": "fa4e71de-dfca-4586-b11c-a41f0cd789ad"
      },
      "execution_count": null,
      "outputs": [
        {
          "output_type": "stream",
          "name": "stdout",
          "text": [
            "[0 0 0 0 0 0 7 4 2 2 0 0 3 6 2 1 0 9 0 0 0]\n",
            "[7 4 2 2 0 0 3 6 2 1 0 9]\n"
          ]
        }
      ]
    },
    {
      "cell_type": "markdown",
      "source": [
        "Change data type of given numpy array"
      ],
      "metadata": {
        "id": "JcQBUxwmbARr"
      }
    },
    {
      "cell_type": "code",
      "source": [
        "change_array_typeint32 = np.array([1, 2, 3, 4, 5])\n",
        "change_array_typefloat = change_array_typeint32.astype('float64')\n",
        "change_array_typebool = change_array_typeint32.astype('bool')\n",
        "change_array_typecomplex = change_array_typeint32.astype('complex128')\n",
        "\n",
        "print('original (int32):', change_array_typeint32, '\\n')\n",
        "print('float:', change_array_typefloat, '\\n')\n",
        "print('bool:', change_array_typebool, '\\n')\n",
        "print('complex:', change_array_typecomplex, '\\n')"
      ],
      "metadata": {
        "colab": {
          "base_uri": "https://localhost:8080/"
        },
        "id": "z8A9RLE_bBSF",
        "outputId": "24fdefed-164c-4dca-9c9d-06fdc309f48d"
      },
      "execution_count": null,
      "outputs": [
        {
          "output_type": "stream",
          "name": "stdout",
          "text": [
            "original (int32): [1 2 3 4 5] \n",
            "\n",
            "float: [1. 2. 3. 4. 5.] \n",
            "\n",
            "bool: [ True  True  True  True  True] \n",
            "\n",
            "complex: [1.+0.j 2.+0.j 3.+0.j 4.+0.j 5.+0.j] \n",
            "\n"
          ]
        }
      ]
    },
    {
      "cell_type": "markdown",
      "source": [
        "Reverse a numpy array"
      ],
      "metadata": {
        "id": "qTWPvzx_cc76"
      }
    },
    {
      "cell_type": "code",
      "source": [
        "reverse_array = np.flip(change_array_typeint32)\n",
        "print('original:', change_array_typeint32, '\\n')\n",
        "print('reversed:', reverse_array, '\\n')\n",
        "\n"
      ],
      "metadata": {
        "colab": {
          "base_uri": "https://localhost:8080/"
        },
        "id": "jEm08dmUcdvR",
        "outputId": "827fed54-9f07-4f47-8506-790084c555ea"
      },
      "execution_count": null,
      "outputs": [
        {
          "output_type": "stream",
          "name": "stdout",
          "text": [
            "original: [1 2 3 4 5] \n",
            "\n",
            "reversed: [5 4 3 2 1] \n",
            "\n"
          ]
        }
      ]
    },
    {
      "cell_type": "markdown",
      "source": [
        "How to make a NumPy array read-only?"
      ],
      "metadata": {
        "id": "3aSwhmbKeCWy"
      }
    },
    {
      "cell_type": "code",
      "source": [
        "mutablearray = np.zeros(20)\n",
        "print(\"Array original: \")\n",
        "print(mutablearray)\n",
        "\n",
        "mutablearray[0] = 27\n",
        "print(\"Array modificado: \")\n",
        "print(mutablearray)\n",
        "\n",
        "mutablearray.setflags(write=False) # changing flag to read-only\n",
        "mutablearray[1] = 7 # trying to change any value will resute in a error"
      ],
      "metadata": {
        "colab": {
          "base_uri": "https://localhost:8080/",
          "height": 294
        },
        "id": "BnoTze4yddh3",
        "outputId": "48148ca8-2dab-4998-fe14-879b3b0faba4"
      },
      "execution_count": null,
      "outputs": [
        {
          "output_type": "stream",
          "name": "stdout",
          "text": [
            "Array original: \n",
            "[0. 0. 0. 0. 0. 0. 0. 0. 0. 0. 0. 0. 0. 0. 0. 0. 0. 0. 0. 0.]\n",
            "Array modificado: \n",
            "[27.  0.  0.  0.  0.  0.  0.  0.  0.  0.  0.  0.  0.  0.  0.  0.  0.  0.\n",
            "  0.  0.]\n"
          ]
        },
        {
          "output_type": "error",
          "ename": "ValueError",
          "evalue": "ignored",
          "traceback": [
            "\u001b[0;31m---------------------------------------------------------------------------\u001b[0m",
            "\u001b[0;31mValueError\u001b[0m                                Traceback (most recent call last)",
            "\u001b[0;32m<ipython-input-29-f2ceaa198379>\u001b[0m in \u001b[0;36m<cell line: 10>\u001b[0;34m()\u001b[0m\n\u001b[1;32m      8\u001b[0m \u001b[0;34m\u001b[0m\u001b[0m\n\u001b[1;32m      9\u001b[0m \u001b[0mmutablearray\u001b[0m\u001b[0;34m.\u001b[0m\u001b[0msetflags\u001b[0m\u001b[0;34m(\u001b[0m\u001b[0mwrite\u001b[0m\u001b[0;34m=\u001b[0m\u001b[0;32mFalse\u001b[0m\u001b[0;34m)\u001b[0m \u001b[0;31m# changing flag to read-only\u001b[0m\u001b[0;34m\u001b[0m\u001b[0;34m\u001b[0m\u001b[0m\n\u001b[0;32m---> 10\u001b[0;31m \u001b[0mmutablearray\u001b[0m\u001b[0;34m[\u001b[0m\u001b[0;36m1\u001b[0m\u001b[0;34m]\u001b[0m \u001b[0;34m=\u001b[0m \u001b[0;36m7\u001b[0m \u001b[0;31m# trying to change any value will resute in a error\u001b[0m\u001b[0;34m\u001b[0m\u001b[0;34m\u001b[0m\u001b[0m\n\u001b[0m",
            "\u001b[0;31mValueError\u001b[0m: assignment destination is read-only"
          ]
        }
      ]
    },
    {
      "cell_type": "markdown",
      "source": [
        "#Questions on NumPy Matrix"
      ],
      "metadata": {
        "id": "cTVu7jx1eZGT"
      }
    },
    {
      "cell_type": "markdown",
      "source": [
        "Get the maximum value from given matrix"
      ],
      "metadata": {
        "id": "h4BLcV1HeifI"
      }
    },
    {
      "cell_type": "code",
      "source": [
        "matrix = np.matrix('[7, 6, 3; 1, 12, 6; 4, 8, 9]')\n",
        "max = matrix.max()\n",
        "print(max)"
      ],
      "metadata": {
        "colab": {
          "base_uri": "https://localhost:8080/"
        },
        "id": "WCZRMadEex-7",
        "outputId": "736ae0d1-a5ba-45d6-b5a8-a747c6d1ac32"
      },
      "execution_count": null,
      "outputs": [
        {
          "output_type": "stream",
          "name": "stdout",
          "text": [
            "12\n"
          ]
        }
      ]
    },
    {
      "cell_type": "markdown",
      "source": [
        "Get the minimum value from given matrix"
      ],
      "metadata": {
        "id": "NRZanUXGfIh2"
      }
    },
    {
      "cell_type": "code",
      "source": [
        "min = matrix.min()\n",
        "print(min)"
      ],
      "metadata": {
        "colab": {
          "base_uri": "https://localhost:8080/"
        },
        "id": "3HX1EaFjfMFB",
        "outputId": "ef957124-9c09-44a8-d59a-5b7134234847"
      },
      "execution_count": null,
      "outputs": [
        {
          "output_type": "stream",
          "name": "stdout",
          "text": [
            "1\n"
          ]
        }
      ]
    },
    {
      "cell_type": "markdown",
      "source": [
        "Find the number of rows and columns of a given matrix using NumPy"
      ],
      "metadata": {
        "id": "eYnafVYEfTxb"
      }
    },
    {
      "cell_type": "code",
      "source": [
        "print('the number of rows and columns for the matrix above is: ', matrix.shape)\n",
        "print(matrix)"
      ],
      "metadata": {
        "colab": {
          "base_uri": "https://localhost:8080/"
        },
        "id": "v-xW48X-fUYb",
        "outputId": "f3ddd46c-187f-4355-f899-956de3cb44e2"
      },
      "execution_count": null,
      "outputs": [
        {
          "output_type": "stream",
          "name": "stdout",
          "text": [
            "the number of rows and columns for the matrix above is:  (3, 3)\n",
            "[[ 7  6  3]\n",
            " [ 1 12  6]\n",
            " [ 4  8  9]]\n"
          ]
        }
      ]
    },
    {
      "cell_type": "markdown",
      "source": [
        "Select the elements from a given matrix"
      ],
      "metadata": {
        "id": "O4UE6WhYgC9x"
      }
    },
    {
      "cell_type": "code",
      "source": [
        "print(matrix, '\\n')\n",
        "\n",
        "choose1 = np.choose([1, 0, 2], matrix) # selecting 1sf element from line 1, 2nd from line 0 and 3rd from line 2\n",
        "print(choose1,'\\n')\n",
        "choose2 = np.choose([0, 2, 0], matrix) # selecting 1sf element from line 0, 2nd from line 2 and 3rd from line 0\n",
        "print(choose2 ,'\\n')\n",
        "chooseline = np.choose([1], matrix) # selecting line 1\n",
        "print(chooseline ,'\\n')"
      ],
      "metadata": {
        "colab": {
          "base_uri": "https://localhost:8080/"
        },
        "id": "FCXKtubLgDt3",
        "outputId": "6e372cf7-0002-4908-dd71-97713b7c9b8c"
      },
      "execution_count": null,
      "outputs": [
        {
          "output_type": "stream",
          "name": "stdout",
          "text": [
            "[[ 7  6  3]\n",
            " [ 1 12  6]\n",
            " [ 4  8  9]] \n",
            "\n",
            "[[1 6 9]] \n",
            "\n",
            "[[7 8 3]] \n",
            "\n",
            "[[ 1 12  6]] \n",
            "\n"
          ]
        }
      ]
    },
    {
      "cell_type": "markdown",
      "source": [
        "Find the sum of values in a matrix"
      ],
      "metadata": {
        "id": "6RqRqaTlhoS4"
      }
    },
    {
      "cell_type": "code",
      "source": [
        "print(matrix, '\\n')\n",
        "print( \"A soma total dos elementos é: \", np.sum(matrix))"
      ],
      "metadata": {
        "colab": {
          "base_uri": "https://localhost:8080/"
        },
        "id": "2bcKL7NdiSXQ",
        "outputId": "d9745dcd-8e08-4f16-fb5c-2219bb1437b4"
      },
      "execution_count": null,
      "outputs": [
        {
          "output_type": "stream",
          "name": "stdout",
          "text": [
            "[[ 7  6  3]\n",
            " [ 1 12  6]\n",
            " [ 4  8  9]] \n",
            "\n",
            "A soma total dos elementos é:  56\n"
          ]
        }
      ]
    },
    {
      "cell_type": "markdown",
      "source": [
        "Calculate the sum of the diagonal elements of a NumPy array"
      ],
      "metadata": {
        "id": "SNXjs_ihk4LO"
      }
    },
    {
      "cell_type": "code",
      "source": [
        "print(matrix, '\\n')\n",
        "trace = np.trace(matrix)\n",
        "print(\"A soma dos elementos da diagonal é:\", trace)"
      ],
      "metadata": {
        "colab": {
          "base_uri": "https://localhost:8080/"
        },
        "id": "He11wRahk-6y",
        "outputId": "2b3fde5b-13b5-4b9c-be4c-b9ce300f9b94"
      },
      "execution_count": null,
      "outputs": [
        {
          "output_type": "stream",
          "name": "stdout",
          "text": [
            "[[ 7  6  3]\n",
            " [ 1 12  6]\n",
            " [ 4  8  9]] \n",
            "\n",
            "A soma dos elementos da diagonal é: 28\n"
          ]
        }
      ]
    },
    {
      "cell_type": "markdown",
      "source": [
        "Adding and Subtracting Matrices in Python"
      ],
      "metadata": {
        "id": "x8_zGdqqlZED"
      }
    },
    {
      "cell_type": "code",
      "source": [
        "A = np.array([[1, 2, 3], [3, 4, 5]])\n",
        "\n",
        "B = np.array([[6, 7, 8], [9, 10, 11]])\n",
        "\n",
        "print(\"Matriz 1:\")\n",
        "print(A, '\\n')\n",
        "print(\"Matriz 2:\")\n",
        "print(B, '\\n')\n",
        "\n",
        "print(\"Adição: \")\n",
        "print(np.add(A, B), '\\n')\n",
        "\n",
        "print(\"Subtração: \")\n",
        "print(np.subtract(A, B))"
      ],
      "metadata": {
        "colab": {
          "base_uri": "https://localhost:8080/"
        },
        "id": "PzDJ25RdlcTX",
        "outputId": "68a57043-2d8e-40fe-b661-b9893918ebcb"
      },
      "execution_count": null,
      "outputs": [
        {
          "output_type": "stream",
          "name": "stdout",
          "text": [
            "Matriz 1:\n",
            "[[1 2 3]\n",
            " [3 4 5]] \n",
            "\n",
            "Matriz 2:\n",
            "[[ 6  7  8]\n",
            " [ 9 10 11]] \n",
            "\n",
            "Adição: \n",
            "[[ 7  9 11]\n",
            " [12 14 16]] \n",
            "\n",
            "Subtração: \n",
            "[[-5 -5 -5]\n",
            " [-6 -6 -6]]\n"
          ]
        }
      ]
    },
    {
      "cell_type": "markdown",
      "source": [
        "Ways to add row/columns in numpy array"
      ],
      "metadata": {
        "id": "t6vSAGXdmJRU"
      }
    },
    {
      "cell_type": "code",
      "source": [
        "column_demo_array_1 = np.zeros([3, 3])\n",
        "column_to_add_1 = np.arange(1, 4).T.reshape(3, 1)\n",
        "column_to_add_2 = np.arange(4, 7).T.reshape(3, 1)\n",
        "\n",
        "print(f'Adição de colunas: \\n{column_demo_array_1}\\n')\n",
        "\n",
        "# 1: using np.append\n",
        "print(f'Adicionando coluna com append: \\n{column_to_add_1}\\n')\n",
        "column_demo_array_2 = np.append(column_demo_array_1, column_to_add_1, axis=1)\n",
        "print(f'np.array atualizado: \\n{column_demo_array_2}\\n')\n",
        "\n",
        "# 2: using np.concatenate\n",
        "print(f'Adicionando coluna com concatenate: \\n{column_to_add_2}\\n')\n",
        "column_demo_array_3 = np.concatenate([column_demo_array_2, column_to_add_2], axis=1)\n",
        "print(f'np.array atualizado: \\n{column_demo_array_3}')\n"
      ],
      "metadata": {
        "id": "7pe4YOVvmLY6",
        "colab": {
          "base_uri": "https://localhost:8080/"
        },
        "outputId": "cbb66d34-4560-437c-8e5f-82f4637d45a5"
      },
      "execution_count": null,
      "outputs": [
        {
          "output_type": "stream",
          "name": "stdout",
          "text": [
            "Adição de colunas: \n",
            "[[0. 0. 0.]\n",
            " [0. 0. 0.]\n",
            " [0. 0. 0.]]\n",
            "\n",
            "Adicionando coluna com append: \n",
            "[[1]\n",
            " [2]\n",
            " [3]]\n",
            "\n",
            "np.array atualizado: \n",
            "[[0. 0. 0. 1.]\n",
            " [0. 0. 0. 2.]\n",
            " [0. 0. 0. 3.]]\n",
            "\n",
            "Adicionando coluna com concatenate: \n",
            "[[4]\n",
            " [5]\n",
            " [6]]\n",
            "\n",
            "np.array atualizado: \n",
            "[[0. 0. 0. 1. 4.]\n",
            " [0. 0. 0. 2. 5.]\n",
            " [0. 0. 0. 3. 6.]]\n"
          ]
        }
      ]
    },
    {
      "cell_type": "code",
      "source": [
        "row_demo_array_1 = np.zeros([3, 3])\n",
        "row_to_add_1 = np.arange(1, 4).T.reshape(1, 3)\n",
        "row_to_add_2 = np.arange(4, 7).T.reshape(1, 3)\n",
        "\n",
        "print(f'Adição de linhas: \\n{row_demo_array_1}\\n')\n",
        "\n",
        "# 1: using np.append\n",
        "print(f'Adicionando linha com append: \\n{row_to_add_1}\\n')\n",
        "row_demo_array_2 = np.append(row_demo_array_1, row_to_add_1, axis=0)\n",
        "print(f'np.array atualizado: \\n{row_demo_array_2}\\n')\n",
        "\n",
        "# 2: using np.insert\n",
        "print(f'Adicionando linha com append: \\n{row_to_add_2}\\n')\n",
        "n_row = row_demo_array_2.shape[0]\n",
        "row_demo_array_3 = np.insert(row_demo_array_2, n_row,[row_to_add_2],axis= 0)\n",
        "print(f'np.array atualizado: \\n{row_demo_array_3}\\n')\n"
      ],
      "metadata": {
        "colab": {
          "base_uri": "https://localhost:8080/"
        },
        "id": "_VQ-0T45IuFh",
        "outputId": "02213b59-5822-484b-900b-47457f4b4e6a"
      },
      "execution_count": null,
      "outputs": [
        {
          "output_type": "stream",
          "name": "stdout",
          "text": [
            "Adição de linhas: \n",
            "[[0. 0. 0.]\n",
            " [0. 0. 0.]\n",
            " [0. 0. 0.]]\n",
            "\n",
            "Adicionando linha com append: \n",
            "[[1 2 3]]\n",
            "\n",
            "np.array atualizado: \n",
            "[[0. 0. 0.]\n",
            " [0. 0. 0.]\n",
            " [0. 0. 0.]\n",
            " [1. 2. 3.]]\n",
            "\n",
            "Adicionando linha com append: \n",
            "[[4 5 6]]\n",
            "\n",
            "np.array atualizado: \n",
            "[[0. 0. 0.]\n",
            " [0. 0. 0.]\n",
            " [0. 0. 0.]\n",
            " [1. 2. 3.]\n",
            " [4. 5. 6.]]\n",
            "\n"
          ]
        }
      ]
    },
    {
      "cell_type": "markdown",
      "source": [
        "Matrix Multiplication in NumPy"
      ],
      "metadata": {
        "id": "XQl_ZSfEmJJQ"
      }
    },
    {
      "cell_type": "code",
      "source": [
        "# using matmul\n",
        "\n",
        "C = np.array([1, 2, 3],)\n",
        "D = np.array([4, 5, 6],)\n",
        "\n",
        "multiply = np.matmul(C, D)\n",
        "print(multiply, '\\n')\n",
        "\n",
        "E = np.array([[1, 2, 3], [3, 4, 5]])\n",
        "F = np.array([6, 7, 8])\n",
        "\n",
        "multiply2 = np.matmul(E, F)\n",
        "print(multiply2, '\\n')\n",
        "\n",
        "G = np.array([[1, 2], [3, 4]])\n",
        "H = np.array([[5, 6], [7, 8]])\n",
        "\n",
        "multiply3 = np.matmul(G, H)\n",
        "print(multiply3, '\\n')\n",
        "\n",
        "#using dot\n",
        "\n",
        "I = np.array([[1, 2], [3, 4], [5, 6]])\n",
        "J = np.array([[5, 6, 7], [7, 8, 9]])\n",
        "\n",
        "multiply4 = np.dot(I, J)\n",
        "print(multiply4, '\\n')\n"
      ],
      "metadata": {
        "colab": {
          "base_uri": "https://localhost:8080/"
        },
        "id": "oXQ7BMI81Sfz",
        "outputId": "a7146cdc-1985-47dd-d446-b73601cc3c22"
      },
      "execution_count": null,
      "outputs": [
        {
          "output_type": "stream",
          "name": "stdout",
          "text": [
            "32 \n",
            "\n",
            "[44 86] \n",
            "\n",
            "[[19 22]\n",
            " [43 50]] \n",
            "\n",
            "[[19 22 25]\n",
            " [43 50 57]\n",
            " [67 78 89]] \n",
            "\n"
          ]
        }
      ]
    },
    {
      "cell_type": "markdown",
      "source": [
        "Get the eigen values of a matrix"
      ],
      "metadata": {
        "id": "FxeGgnuk3TzS"
      }
    },
    {
      "cell_type": "code",
      "source": [
        "# using H, a square matrix\n",
        "\n",
        "print(H)\n",
        "w1, v1 = np.linalg.eig(H)\n",
        "\n",
        "print(\"eigen values of H:\", w1)\n",
        "print(\"right eigenvectors of H:\\n\", v1)"
      ],
      "metadata": {
        "colab": {
          "base_uri": "https://localhost:8080/"
        },
        "id": "bLNtawW23U3t",
        "outputId": "31cb026b-c087-4d4f-e257-5d5bcd490dbb"
      },
      "execution_count": null,
      "outputs": [
        {
          "output_type": "stream",
          "name": "stdout",
          "text": [
            "[[5 6]\n",
            " [7 8]]\n",
            "eigen values of H: [-0.15206735 13.15206735]\n",
            "right eigenvectors of H:\n",
            " [[-0.75868086 -0.59276441]\n",
            " [ 0.65146248 -0.80537591]]\n"
          ]
        }
      ]
    },
    {
      "cell_type": "markdown",
      "source": [
        "How to Calculate the determinant of a matrix using NumPy?"
      ],
      "metadata": {
        "id": "K4Jac1P24X32"
      }
    },
    {
      "cell_type": "code",
      "source": [
        "# using matrix, a square matrix\n",
        "\n",
        "print(matrix)\n",
        "det = np.linalg.det(matrix)\n",
        "\n",
        "print(int(det))\n",
        "\n",
        "# 2x2:\n",
        "print(G)\n",
        "detG = np.linalg.det(G)\n",
        "\n",
        "print(int(detG))"
      ],
      "metadata": {
        "colab": {
          "base_uri": "https://localhost:8080/"
        },
        "id": "6KM1j9lC4YpF",
        "outputId": "623c9f38-ba8b-47c4-b87e-a7420798185d"
      },
      "execution_count": null,
      "outputs": [
        {
          "output_type": "stream",
          "name": "stdout",
          "text": [
            "[[ 7  6  3]\n",
            " [ 1 12  6]\n",
            " [ 4  8  9]]\n",
            "390\n",
            "[[1 2]\n",
            " [3 4]]\n",
            "-2\n"
          ]
        }
      ]
    },
    {
      "cell_type": "markdown",
      "source": [
        "How to inverse a matrix using NumPy"
      ],
      "metadata": {
        "id": "L0dCIQU35eGd"
      }
    },
    {
      "cell_type": "code",
      "source": [
        "inv = np.linalg.inv(matrix)\n",
        "print(inv)"
      ],
      "metadata": {
        "colab": {
          "base_uri": "https://localhost:8080/"
        },
        "id": "NC14M8S65e2Z",
        "outputId": "8d7fd786-3197-4d62-8902-b2b2b872025d"
      },
      "execution_count": null,
      "outputs": [
        {
          "output_type": "stream",
          "name": "stdout",
          "text": [
            "[[ 0.15384615 -0.07692308  0.        ]\n",
            " [ 0.03846154  0.13076923 -0.1       ]\n",
            " [-0.1025641  -0.08205128  0.2       ]]\n"
          ]
        }
      ]
    },
    {
      "cell_type": "markdown",
      "source": [
        "How to count the frequency of unique values in NumPy array?"
      ],
      "metadata": {
        "id": "u6678WSm5sj9"
      }
    },
    {
      "cell_type": "code",
      "source": [
        "print(J)\n",
        "\n",
        "unique, frequency = np.unique(J, return_counts = True)\n",
        "print(f'unique values: {unique}\\ncorrespondent frequency: {frequency}')"
      ],
      "metadata": {
        "colab": {
          "base_uri": "https://localhost:8080/"
        },
        "id": "-FOSz3-q5tDf",
        "outputId": "77982d80-baff-4d35-afea-0d6f0f2a5605"
      },
      "execution_count": null,
      "outputs": [
        {
          "output_type": "stream",
          "name": "stdout",
          "text": [
            "[[5 6 7]\n",
            " [7 8 9]]\n",
            "unique values: [5 6 7 8 9]\n",
            "correspondent frequency: [1 1 2 1 1]\n"
          ]
        }
      ]
    },
    {
      "cell_type": "markdown",
      "source": [
        "Multiply matrices of complex numbers using NumPy in Python"
      ],
      "metadata": {
        "id": "VPnSbxjU7C9A"
      }
    },
    {
      "cell_type": "code",
      "source": [
        "X = np.array([[2+3j, 4+5j], [4+5j, 6+7j]])\n",
        "print(x, '\\n')\n",
        "\n",
        "Y = np.array([[8+7j, 5+6j], [9+10j, 1+2j]])\n",
        "print(y, '\\n')\n",
        "\n",
        "resultXYcomplex = np.vdot(X, Y)\n",
        "\n",
        "print('result: ',resultXYcomplex)"
      ],
      "metadata": {
        "colab": {
          "base_uri": "https://localhost:8080/"
        },
        "id": "vmLzyjkg7Dvp",
        "outputId": "63f67aa3-aeda-40a9-c1ea-0f97fe646a38"
      },
      "execution_count": null,
      "outputs": [
        {
          "output_type": "stream",
          "name": "stdout",
          "text": [
            "[[1 2 3]\n",
            " [4 5 6]\n",
            " [7 8 9]] \n",
            "\n",
            "[[ 1.  2.  3.]\n",
            " [ 4.  5. nan]\n",
            " [ 7.  8.  9.]\n",
            " [ 1.  0.  1.]] \n",
            "\n",
            "result:  (193-11j)\n"
          ]
        }
      ]
    },
    {
      "cell_type": "markdown",
      "source": [
        "Compute the outer product of two given vectors using NumPy in Python"
      ],
      "metadata": {
        "id": "hbSpZwzN7urI"
      }
    },
    {
      "cell_type": "code",
      "source": [
        "print(f'outer product of: \\n{G} \\nand\\n {H}')\n",
        "\n",
        "outeresult = np.outer(G, H)\n",
        "print(f'\\nresult:\\n {outeresult}')\n"
      ],
      "metadata": {
        "colab": {
          "base_uri": "https://localhost:8080/"
        },
        "id": "gG6vqvxy75D2",
        "outputId": "a6883aa0-0d12-4a55-e572-da275700ce4b"
      },
      "execution_count": null,
      "outputs": [
        {
          "output_type": "stream",
          "name": "stdout",
          "text": [
            "outer product of: \n",
            "[[1 2]\n",
            " [3 4]] \n",
            "and\n",
            " [[5 6]\n",
            " [7 8]]\n",
            "\n",
            "result:\n",
            " [[ 5  6  7  8]\n",
            " [10 12 14 16]\n",
            " [15 18 21 24]\n",
            " [20 24 28 32]]\n"
          ]
        }
      ]
    },
    {
      "cell_type": "markdown",
      "source": [
        "Calculate inner, outer, and cross products of matrices and vectors using NumPy"
      ],
      "metadata": {
        "id": "WE53rTG79Ft2"
      }
    },
    {
      "cell_type": "code",
      "source": [
        "print(f'{G}\\n\\n{H}\\n')\n",
        "outeresult = np.outer(G, H)\n",
        "inneresult = np.inner(G, H)\n",
        "crosresult = np.cross(G, H)\n",
        "\n",
        "print(f'outer:\\n {outeresult}\\n\\ninner: \\n{inneresult}\\n\\ncross: \\n{crosresult}')\n",
        "\n"
      ],
      "metadata": {
        "colab": {
          "base_uri": "https://localhost:8080/"
        },
        "id": "hIVv79Ta9GjN",
        "outputId": "5597c9bd-1101-4016-f680-9c45c5d1cf5c"
      },
      "execution_count": null,
      "outputs": [
        {
          "output_type": "stream",
          "name": "stdout",
          "text": [
            "[[1 2]\n",
            " [3 4]]\n",
            "\n",
            "[[5 6]\n",
            " [7 8]]\n",
            "\n",
            "outer:\n",
            " [[ 5  6  7  8]\n",
            " [10 12 14 16]\n",
            " [15 18 21 24]\n",
            " [20 24 28 32]]\n",
            "\n",
            "inner: \n",
            "[[17 23]\n",
            " [39 53]]\n",
            "\n",
            "cross: \n",
            "[-4 -4]\n"
          ]
        }
      ]
    },
    {
      "cell_type": "markdown",
      "source": [
        "Compute the covariance matrix of two given NumPy arrays"
      ],
      "metadata": {
        "id": "ldsz3SP79uMI"
      }
    },
    {
      "cell_type": "code",
      "source": [
        "\n",
        "cvarray1 = np.array([0, 2, 2])\n",
        "cvarray2 = np.array([4, 4, 2])\n",
        "cvmatrix = np.cov(cvarray1, cvarray2)\n",
        "print(f'\\ncovariance matrix:\\n{cvmatrix}')"
      ],
      "metadata": {
        "colab": {
          "base_uri": "https://localhost:8080/"
        },
        "id": "srqjdmcG9uqh",
        "outputId": "8af42174-9ed1-425a-c5da-184fb173694e"
      },
      "execution_count": null,
      "outputs": [
        {
          "output_type": "stream",
          "name": "stdout",
          "text": [
            "\n",
            "covariance matrix:\n",
            "[[ 1.33333333 -0.66666667]\n",
            " [-0.66666667  1.33333333]]\n"
          ]
        }
      ]
    },
    {
      "cell_type": "markdown",
      "source": [
        "Convert covariance matrix to correlation matrix using Python"
      ],
      "metadata": {
        "id": "5FpyQFac-s7w"
      }
    },
    {
      "cell_type": "code",
      "source": [
        "# converting using cvmatrix:\n",
        "v = np.sqrt(np.diag(cvmatrix))\n",
        "outerV = np.outer(v, v)\n",
        "correlation = cvmatrix / outerV\n",
        "correlation[cvmatrix == 0] = 0\n",
        "\n",
        "print(correlation, '\\n')\n",
        "\n",
        "# comparing with numpy corrcoef method\n",
        "crmatrix = np.corrcoef(cvarray1, cvarray2)\n",
        "print(crmatrix)\n"
      ],
      "metadata": {
        "colab": {
          "base_uri": "https://localhost:8080/"
        },
        "id": "1ldR0odi-t3D",
        "outputId": "e2b301c3-a89e-4fea-94b4-56b06e06f66e"
      },
      "execution_count": null,
      "outputs": [
        {
          "output_type": "stream",
          "name": "stdout",
          "text": [
            "[[ 1.  -0.5]\n",
            " [-0.5  1. ]] \n",
            "\n",
            "[[ 1.  -0.5]\n",
            " [-0.5  1. ]]\n"
          ]
        }
      ]
    },
    {
      "cell_type": "markdown",
      "source": [
        "Compute the Kronecker product of two mulitdimension NumPy arrays"
      ],
      "metadata": {
        "id": "TgIBKg81AcHa"
      }
    },
    {
      "cell_type": "code",
      "source": [
        "print(f'{G}\\n\\n{H}\\n')\n",
        "kronecker = np.kron(G, H)\n",
        "print('kronecker product of G and H:', kronecker)"
      ],
      "metadata": {
        "colab": {
          "base_uri": "https://localhost:8080/"
        },
        "id": "GuGSoZmRA0K-",
        "outputId": "cb0f7abe-bdce-427a-9f9b-c8babf32f892"
      },
      "execution_count": null,
      "outputs": [
        {
          "output_type": "stream",
          "name": "stdout",
          "text": [
            "[[1 2]\n",
            " [3 4]]\n",
            "\n",
            "[[5 6]\n",
            " [7 8]]\n",
            "\n",
            "kronecker product of G and H: [[ 5  6 10 12]\n",
            " [ 7  8 14 16]\n",
            " [15 18 20 24]\n",
            " [21 24 28 32]]\n"
          ]
        }
      ]
    },
    {
      "cell_type": "markdown",
      "source": [
        "Convert the matrix into a list"
      ],
      "metadata": {
        "id": "2A4oQZQrBZdH"
      }
    },
    {
      "cell_type": "code",
      "source": [
        "print(matrix, '\\n')\n",
        "print(matrix.tolist())"
      ],
      "metadata": {
        "colab": {
          "base_uri": "https://localhost:8080/"
        },
        "id": "DECec7qcBZ6I",
        "outputId": "de6d40b0-f1a5-4014-b0ab-c7332e401706"
      },
      "execution_count": null,
      "outputs": [
        {
          "output_type": "stream",
          "name": "stdout",
          "text": [
            "[[ 7  6  3]\n",
            " [ 1 12  6]\n",
            " [ 4  8  9]] \n",
            "\n",
            "[[7, 6, 3], [1, 12, 6], [4, 8, 9]]\n"
          ]
        }
      ]
    },
    {
      "cell_type": "markdown",
      "source": [
        "# Questions on NumPy Indexing"
      ],
      "metadata": {
        "id": "AvMu8NIyCTtx"
      }
    },
    {
      "cell_type": "markdown",
      "source": [
        "Replace NumPy array elements that doesn’t satisfy the given condition"
      ],
      "metadata": {
        "id": "E33ce_ZaC9jM"
      }
    },
    {
      "cell_type": "code",
      "source": [
        "replace_condition_arr = np.array([9.4, 3.75, 10.0, 6.2, 7.35, 8.1])\n",
        "print(replace_condition_arr)\n",
        "\n",
        "# substituindo valores abaixo de 7 por 0\n",
        "replace_condition_arr[replace_condition_arr < 7.0] = 0.0\n",
        "print(replace_condition_arr)"
      ],
      "metadata": {
        "colab": {
          "base_uri": "https://localhost:8080/"
        },
        "id": "tDeJP-BPDB-i",
        "outputId": "728cbbf0-1f08-4813-8149-f34a44dd8626"
      },
      "execution_count": null,
      "outputs": [
        {
          "output_type": "stream",
          "name": "stdout",
          "text": [
            "[ 9.4   3.75 10.    6.2   7.35  8.1 ]\n",
            "[ 9.4   0.   10.    0.    7.35  8.1 ]\n"
          ]
        }
      ]
    },
    {
      "cell_type": "markdown",
      "source": [
        "Return the indices of elements where the given condition is satisfied"
      ],
      "metadata": {
        "id": "i1mVEtmLD4RO"
      }
    },
    {
      "cell_type": "code",
      "source": [
        "# usando a condição inversa da substituição acima:\n",
        "return_index_condition = np.array([9.4, 3.75, 10.0, 6.2, 7.35, 8.1])\n",
        "index_returned = np.where(return_index_condition > 7.0)\n",
        "print(index_returned)"
      ],
      "metadata": {
        "colab": {
          "base_uri": "https://localhost:8080/"
        },
        "id": "9lxDrTFyD4u1",
        "outputId": "dc07c38c-6149-49f4-9132-c2c761fea51f"
      },
      "execution_count": null,
      "outputs": [
        {
          "output_type": "stream",
          "name": "stdout",
          "text": [
            "(array([0, 2, 4, 5]),)\n"
          ]
        }
      ]
    },
    {
      "cell_type": "markdown",
      "source": [
        "Replace NaN values with average of columns"
      ],
      "metadata": {
        "id": "TdT_lhMgExij"
      }
    },
    {
      "cell_type": "code",
      "source": [
        "nanvalues_average_array = np.array(\n",
        "                     [[1, 2, np.nan],\n",
        "                      [4, 5, np.nan],\n",
        "                      [7, np.nan, 9],\n",
        "                      [np.nan, 11, 12]])\n",
        "\n",
        "print (nanvalues_average_array)\n",
        "\n",
        "col_mean = np.nanmean(nanvalues_average_array, axis = 0)\n",
        "\n",
        "print (\"\\ncolumns mean:\", str(col_mean))\n",
        "\n",
        "nan_indexes = np.where(np.isnan(nanvalues_average_array))\n",
        "\n",
        "nanvalues_average_array[nan_indexes] = np.take(col_mean, nan_indexes[1])\n",
        "\n",
        "# printing final array\n",
        "print (\"\\nresult:\\n\", nanvalues_average_array)"
      ],
      "metadata": {
        "colab": {
          "base_uri": "https://localhost:8080/"
        },
        "id": "BxJZCaJLEyBf",
        "outputId": "cfc1df48-7e1b-445a-f6c6-6d48ffd2520d"
      },
      "execution_count": null,
      "outputs": [
        {
          "output_type": "stream",
          "name": "stdout",
          "text": [
            "[[ 1.  2. nan]\n",
            " [ 4.  5. nan]\n",
            " [ 7. nan  9.]\n",
            " [nan 11. 12.]]\n",
            "\n",
            "columns mean: [ 4.   6.  10.5]\n",
            "\n",
            "result:\n",
            " [[ 1.   2.  10.5]\n",
            " [ 4.   5.  10.5]\n",
            " [ 7.   6.   9. ]\n",
            " [ 4.  11.  12. ]]\n"
          ]
        }
      ]
    },
    {
      "cell_type": "markdown",
      "source": [
        "Replace negative value with zero in numpy array"
      ],
      "metadata": {
        "id": "1NdmVw-_GOcR"
      }
    },
    {
      "cell_type": "code",
      "source": [
        "neg_replace_array = np.array([[-1, 2, -3,], [4, -5, 6], [-7, 8, 9]])\n",
        "print(f'\\n{neg_replace_array}')\n",
        "neg_replace_array[neg_replace_array<0] = 0\n",
        "print(f'\\n{neg_replace_array}')"
      ],
      "metadata": {
        "colab": {
          "base_uri": "https://localhost:8080/"
        },
        "id": "4qMXqO43GPLJ",
        "outputId": "5920ee65-7909-498e-b02d-35592bd9ab85"
      },
      "execution_count": null,
      "outputs": [
        {
          "output_type": "stream",
          "name": "stdout",
          "text": [
            "\n",
            "[[-1  2 -3]\n",
            " [ 4 -5  6]\n",
            " [-7  8  9]]\n",
            "\n",
            "[[0 2 0]\n",
            " [4 0 6]\n",
            " [0 8 9]]\n"
          ]
        }
      ]
    },
    {
      "cell_type": "markdown",
      "source": [
        "How to get values of an NumPy array at certain index positions?"
      ],
      "metadata": {
        "id": "Vgk5NCHYG7Oo"
      }
    },
    {
      "cell_type": "code",
      "source": [
        "# using replace_condition_array from some questions above\n",
        "print(replace_condition_arr)\n",
        "\n",
        "index_required_positions = [2, 4, 3, 0]\n",
        "\n",
        "new = replace_condition_arr[index_required_positions]\n",
        "\n",
        "print(new)"
      ],
      "metadata": {
        "colab": {
          "base_uri": "https://localhost:8080/"
        },
        "id": "4lJDl54iG9lH",
        "outputId": "b59a7dee-0b6b-47c9-8f73-26a6dbc91730"
      },
      "execution_count": null,
      "outputs": [
        {
          "output_type": "stream",
          "name": "stdout",
          "text": [
            "[ 9.4   0.   10.    0.    7.35  8.1 ]\n",
            "[10.    7.35  0.    9.4 ]\n"
          ]
        }
      ]
    },
    {
      "cell_type": "markdown",
      "source": [
        "Find indices of elements equal to zero in a NumPy array"
      ],
      "metadata": {
        "id": "YG7jlAUGIAGZ"
      }
    },
    {
      "cell_type": "code",
      "source": [
        "# using replace_condtion_array cuz it has zero values after replacement\n",
        "print(replace_condition_arr)\n",
        "index_zero_elements = np.where(replace_condition_arr == 0)[0]\n",
        "print(index_zero_elements)"
      ],
      "metadata": {
        "colab": {
          "base_uri": "https://localhost:8080/"
        },
        "id": "NV3E4V_IIDYa",
        "outputId": "2673c65c-bcf9-4bf1-c54a-f9ac614242a4"
      },
      "execution_count": null,
      "outputs": [
        {
          "output_type": "stream",
          "name": "stdout",
          "text": [
            "[ 9.4   0.   10.    0.    7.35  8.1 ]\n",
            "[1 3]\n"
          ]
        }
      ]
    },
    {
      "cell_type": "markdown",
      "source": [
        "How to Remove columns in Numpy array that contains non-numeric values?"
      ],
      "metadata": {
        "id": "dAysx5QmI0OD"
      }
    },
    {
      "cell_type": "code",
      "source": [
        "nanvalues_column_array = np.array(\n",
        "                     [[1, 2, np.nan],\n",
        "                      [4, 5, 6],\n",
        "                      [7, np.nan, 9],])\n",
        "\n",
        "print(nanvalues_column_array, '\\n')\n",
        "\n",
        "nanvalues_column_array  = nanvalues_column_array[:, ~np.isnan(nanvalues_column_array).any(axis=0)]\n",
        "print(nanvalues_column_array)"
      ],
      "metadata": {
        "colab": {
          "base_uri": "https://localhost:8080/"
        },
        "id": "JAvREGxkI3tT",
        "outputId": "3d28d044-6e6c-4bca-d2b4-dfc561dd2063"
      },
      "execution_count": null,
      "outputs": [
        {
          "output_type": "stream",
          "name": "stdout",
          "text": [
            "[[ 1.  2. nan]\n",
            " [ 4.  5.  6.]\n",
            " [ 7. nan  9.]] \n",
            "\n",
            "[[1.]\n",
            " [4.]\n",
            " [7.]]\n"
          ]
        }
      ]
    },
    {
      "cell_type": "markdown",
      "source": [
        "How to access different rows of a multidimensional NumPy array?"
      ],
      "metadata": {
        "id": "orlrlUMUJxZH"
      }
    },
    {
      "cell_type": "code",
      "source": [
        "matrix2 = np.array([[7, 6, 3], [1, 12, 6], [13, 8, 9], [20, 11, 9]])\n",
        "print(matrix2)\n",
        "\n",
        "required_rows_matrix = matrix2[[0, 3]]\n",
        "required_rows_matrix2 = matrix2[[1]]\n",
        "print(f'\\nmatrix required rows 0 and 3:\\n {required_rows_matrix}') #first and last\n",
        "print(f'\\nmatrix required row 2:\\n {required_rows_matrix2}') #second row"
      ],
      "metadata": {
        "colab": {
          "base_uri": "https://localhost:8080/"
        },
        "id": "e2pjhGb5Jylt",
        "outputId": "f8f5829e-ed21-431f-f849-f02662ae0d7b"
      },
      "execution_count": null,
      "outputs": [
        {
          "output_type": "stream",
          "name": "stdout",
          "text": [
            "[[ 7  6  3]\n",
            " [ 1 12  6]\n",
            " [ 4  8  9]\n",
            " [20 11  3]]\n",
            "\n",
            "matrix required rows 0 and 3:\n",
            " [[ 7  6  3]\n",
            " [20 11  3]]\n",
            "\n",
            "matrix required row 2:\n",
            " [[ 1 12  6]]\n"
          ]
        }
      ]
    },
    {
      "cell_type": "markdown",
      "source": [
        "Get row numbers of NumPy array having element larger than X"
      ],
      "metadata": {
        "id": "aW5VFfCxLZVa"
      }
    },
    {
      "cell_type": "code",
      "source": [
        "#using preview question matrix\n",
        "print(matrix2)\n",
        "X = int(input('\\nDigite o valor de X: ')) #try it with 3, 8, 9 and 12\n",
        "result_matrix_greaterX = np.where(np.any(matrix2>X, axis=1))\n",
        "\n",
        "print(f'\\nmatrix rows with some value greater than{X}:\\n {result_matrix_greaterX}')"
      ],
      "metadata": {
        "colab": {
          "base_uri": "https://localhost:8080/"
        },
        "id": "qrrmGgn3LaHW",
        "outputId": "3a0a233e-a976-4f72-c32f-9694a626e703"
      },
      "execution_count": null,
      "outputs": [
        {
          "output_type": "stream",
          "name": "stdout",
          "text": [
            "[[ 7  6  3]\n",
            " [ 1 12  6]\n",
            " [ 4  8  9]\n",
            " [20 11  3]]\n",
            "\n",
            "Digite o valor de X: 12\n",
            "\n",
            "matrix rows with some value greater than12:\n",
            " (array([3]),)\n"
          ]
        }
      ]
    },
    {
      "cell_type": "markdown",
      "source": [
        "Get filled the diagonals of NumPy array"
      ],
      "metadata": {
        "id": "RMSPAwW8I2jr"
      }
    },
    {
      "cell_type": "code",
      "source": [
        "array_diag_fill = np.zeros((3,3), int)\n",
        "print(f'array antes do preenchimento de diagonal:\\n{array_diag_fill}')\n",
        "np.fill_diagonal(array_diag_fill, 8)\n",
        "print(f'\\narray após preenchimento de diagonal com 8:\\n{array_diag_fill}')"
      ],
      "metadata": {
        "colab": {
          "base_uri": "https://localhost:8080/"
        },
        "id": "3tPRTamWNHPK",
        "outputId": "dbd38f7f-3905-480f-b860-4795a34eb137"
      },
      "execution_count": null,
      "outputs": [
        {
          "output_type": "stream",
          "name": "stdout",
          "text": [
            "array antes do preenchimento de diagonal:\n",
            "[[0 0 0]\n",
            " [0 0 0]\n",
            " [0 0 0]]\n",
            "\n",
            "array após preenchimento de diagonal com 8:\n",
            "[[8 0 0]\n",
            " [0 8 0]\n",
            " [0 0 8]]\n"
          ]
        }
      ]
    },
    {
      "cell_type": "markdown",
      "source": [
        "Check elements present in the NumPy array"
      ],
      "metadata": {
        "id": "Bxig1KvWOI0-"
      }
    },
    {
      "cell_type": "code",
      "source": [
        "check_array = np.arange(1, 13).T.reshape(4, 3)\n",
        "\n",
        "print(check_array)\n",
        "n = int(input('Digite o elemento que deseja checar se faz parte do array: '))\n",
        "print(f'{n} faz parte do array? {n in check_array}')"
      ],
      "metadata": {
        "id": "9UmyzkP5Naou",
        "colab": {
          "base_uri": "https://localhost:8080/"
        },
        "outputId": "0f3c5118-f3df-488f-99f4-4e3c86a17a60"
      },
      "execution_count": 52,
      "outputs": [
        {
          "output_type": "stream",
          "name": "stdout",
          "text": [
            "[[ 1  2  3]\n",
            " [ 4  5  6]\n",
            " [ 7  8  9]\n",
            " [10 11 12]]\n",
            "Digite o elemento que deseja checar se faz parte do array: 7\n",
            "7 faz parte do array? True\n"
          ]
        }
      ]
    },
    {
      "cell_type": "markdown",
      "source": [
        "Combined array index by index"
      ],
      "metadata": {
        "id": "OiBFssdvOIMD"
      }
    },
    {
      "cell_type": "code",
      "source": [
        "comb_array = np.array(np.meshgrid(c1, c2)).T.reshape(-1, 2)\n",
        "print(comb_array)"
      ],
      "metadata": {
        "colab": {
          "base_uri": "https://localhost:8080/"
        },
        "id": "Ra66kOyNOVKE",
        "outputId": "d0c6a326-e043-4ce1-cebd-4bc48596a72a"
      },
      "execution_count": 54,
      "outputs": [
        {
          "output_type": "stream",
          "name": "stdout",
          "text": [
            "[[ 0  7]\n",
            " [ 0  8]\n",
            " [ 0  9]\n",
            " [ 0 10]\n",
            " [ 0 11]\n",
            " [ 0 12]\n",
            " [ 0 13]\n",
            " [ 0 14]\n",
            " [ 0 15]\n",
            " [ 0 16]\n",
            " [ 1  7]\n",
            " [ 1  8]\n",
            " [ 1  9]\n",
            " [ 1 10]\n",
            " [ 1 11]\n",
            " [ 1 12]\n",
            " [ 1 13]\n",
            " [ 1 14]\n",
            " [ 1 15]\n",
            " [ 1 16]\n",
            " [ 2  7]\n",
            " [ 2  8]\n",
            " [ 2  9]\n",
            " [ 2 10]\n",
            " [ 2 11]\n",
            " [ 2 12]\n",
            " [ 2 13]\n",
            " [ 2 14]\n",
            " [ 2 15]\n",
            " [ 2 16]\n",
            " [ 3  7]\n",
            " [ 3  8]\n",
            " [ 3  9]\n",
            " [ 3 10]\n",
            " [ 3 11]\n",
            " [ 3 12]\n",
            " [ 3 13]\n",
            " [ 3 14]\n",
            " [ 3 15]\n",
            " [ 3 16]\n",
            " [ 4  7]\n",
            " [ 4  8]\n",
            " [ 4  9]\n",
            " [ 4 10]\n",
            " [ 4 11]\n",
            " [ 4 12]\n",
            " [ 4 13]\n",
            " [ 4 14]\n",
            " [ 4 15]\n",
            " [ 4 16]]\n"
          ]
        }
      ]
    },
    {
      "cell_type": "markdown",
      "source": [
        "#Questions on NumPy Linear Algebra"
      ],
      "metadata": {
        "id": "7sI6QBnCCAbC"
      }
    },
    {
      "cell_type": "markdown",
      "source": [
        "Find a matrix or vector norm using NumPy\n"
      ],
      "metadata": {
        "id": "x0Vd-iZiOe2n"
      }
    },
    {
      "cell_type": "code",
      "source": [
        "# using preview matrix\n",
        "print(matrix)\n",
        "matrix_norm = np.linalg.norm(matrix)\n",
        "print(f'\\nmatrix norm: {matrix_norm}')"
      ],
      "metadata": {
        "colab": {
          "base_uri": "https://localhost:8080/"
        },
        "id": "q0JI2HCdOuj2",
        "outputId": "b68f9078-039d-4bc8-939d-8b0fecd893b9"
      },
      "execution_count": null,
      "outputs": [
        {
          "output_type": "stream",
          "name": "stdout",
          "text": [
            "\n",
            "matrix norm: 8.0\n"
          ]
        }
      ]
    },
    {
      "cell_type": "markdown",
      "source": [
        "Calculate the QR decomposition of a given matrix using NumPy"
      ],
      "metadata": {
        "id": "-nSrqyxCOg2E"
      }
    },
    {
      "cell_type": "code",
      "source": [
        "matrix3 = np.array([[1, 2, 3], [4, 5, 6]])\n",
        "print(matrix3)\n",
        "q, r = np.linalg.qr(matrix3)\n",
        "print(f'\\nQ: \\n{q}\\nR: \\n{r}')\n"
      ],
      "metadata": {
        "colab": {
          "base_uri": "https://localhost:8080/"
        },
        "id": "DXvgou5jPJvJ",
        "outputId": "31d73413-7b33-4c90-baed-7a37e6223784"
      },
      "execution_count": null,
      "outputs": [
        {
          "output_type": "stream",
          "name": "stdout",
          "text": [
            "[[1 2 3]\n",
            " [4 5 6]]\n",
            "\n",
            "Q: \n",
            "[[-0.24253563 -0.9701425 ]\n",
            " [-0.9701425   0.24253563]]\n",
            "R: \n",
            "[[-4.12310563 -5.33578375 -6.54846188]\n",
            " [ 0.         -0.72760688 -1.45521375]]\n"
          ]
        }
      ]
    },
    {
      "cell_type": "markdown",
      "source": [
        "Compute the condition number of a given matrix using NumPy"
      ],
      "metadata": {
        "id": "MQwyTUPTOirm"
      }
    },
    {
      "cell_type": "code",
      "source": [
        "# using preview matrix\n",
        "print(matrix)\n",
        "condition_n = np.linalg.cond(matrix)\n",
        "print(f'result: {condition_n}')"
      ],
      "metadata": {
        "colab": {
          "base_uri": "https://localhost:8080/"
        },
        "id": "vnu3fKYfQD47",
        "outputId": "e08a5d0e-4383-4ed5-bf03-2b955ce90bb8"
      },
      "execution_count": null,
      "outputs": [
        {
          "output_type": "stream",
          "name": "stdout",
          "text": [
            "[[ 7  6  3]\n",
            " [ 1 12  6]\n",
            " [ 4  8  9]]\n",
            "result: 5.6383472517345465\n"
          ]
        }
      ]
    },
    {
      "cell_type": "markdown",
      "source": [
        "Compute the eigenvalues and right eigenvectors of a given square array using NumPy?"
      ],
      "metadata": {
        "id": "nbXkXEWpOkeN"
      }
    },
    {
      "cell_type": "code",
      "source": [
        "# using preview matrix\n",
        "print(matrix)\n",
        "\n",
        "w2, v2 = np.linalg.eig(matrix)\n",
        "\n",
        "print(f\"\\neigen values of matrix:{w2}\\n\")\n",
        "print(f\"right eigenvectors of matrix:\\n{v2}\")"
      ],
      "metadata": {
        "colab": {
          "base_uri": "https://localhost:8080/"
        },
        "id": "zTrXUWRdQcYI",
        "outputId": "ba24ab9d-b0ba-4e2c-c61d-9a9b7c7773bf"
      },
      "execution_count": null,
      "outputs": [
        {
          "output_type": "stream",
          "name": "stdout",
          "text": [
            "[[ 7  6  3]\n",
            " [ 1 12  6]\n",
            " [ 4  8  9]]\n",
            "\n",
            "eigen values of matrix:[19.22373616+0.j          4.38813192+1.01573509j  4.38813192-1.01573509j]\n",
            "\n",
            "right eigenvectors of matrix:\n",
            "[[ 0.45696607+0.j         -0.32565887-0.41648163j -0.32565887+0.41648163j]\n",
            " [ 0.60491006+0.j          0.53547184+0.12616866j  0.53547184-0.12616866j]\n",
            " [ 0.6521241 +0.j         -0.64640601+0.j         -0.64640601-0.j        ]]\n"
          ]
        }
      ]
    },
    {
      "cell_type": "markdown",
      "source": [
        "Calculate the Euclidean distance using NumPy"
      ],
      "metadata": {
        "id": "5CPvZuR3OpHC"
      }
    },
    {
      "cell_type": "code",
      "source": [
        "p1 = np.array((1, 2, 3))\n",
        "p2 = np.array((3, 2, 1))\n",
        "\n",
        "#1 linalg.norm\n",
        "distancia = np.linalg.norm(p1 - p2)\n",
        "\n",
        "print(f'Distância entre p1{p1} e p2{p2} = {distancia}')\n",
        "\n"
      ],
      "metadata": {
        "colab": {
          "base_uri": "https://localhost:8080/"
        },
        "id": "rnpqkq-_RFyM",
        "outputId": "fc696118-2999-4e5b-b8bc-fdc196516886"
      },
      "execution_count": null,
      "outputs": [
        {
          "output_type": "stream",
          "name": "stdout",
          "text": [
            "Distância entre p1[1 2 3] e p2[3 2 1] = 2.8284271247461903\n"
          ]
        }
      ]
    },
    {
      "cell_type": "markdown",
      "source": [
        "# Questions on NumPy Random"
      ],
      "metadata": {
        "id": "41P0RYqqCHOf"
      }
    },
    {
      "cell_type": "markdown",
      "source": [
        "Create a Numpy array with random values"
      ],
      "metadata": {
        "id": "XUQw2t7tSFFV"
      }
    },
    {
      "cell_type": "code",
      "source": [
        "random_array = np.random.rand(1,3)\n",
        "print(random_array)"
      ],
      "metadata": {
        "colab": {
          "base_uri": "https://localhost:8080/"
        },
        "id": "Mva8lJBASgsA",
        "outputId": "ed296867-c3b4-4f36-cca8-d2bc85d7d7f2"
      },
      "execution_count": null,
      "outputs": [
        {
          "output_type": "stream",
          "name": "stdout",
          "text": [
            "[[0.48277226 0.34914912 0.69452857]]\n"
          ]
        }
      ]
    },
    {
      "cell_type": "markdown",
      "source": [
        "How to choose elements from the list with different probability using NumPy?"
      ],
      "metadata": {
        "id": "gcRhw1CHSG-A"
      }
    },
    {
      "cell_type": "code",
      "source": [
        "r_list = np.arange(10)\n",
        "print(r_list)\n",
        "n_selected = np.random.choice(r_list)\n",
        "print(n_selected)"
      ],
      "metadata": {
        "colab": {
          "base_uri": "https://localhost:8080/"
        },
        "id": "X9zNHEW5TJKA",
        "outputId": "3fcacdca-626e-42e9-f6e3-fc4abe213898"
      },
      "execution_count": null,
      "outputs": [
        {
          "output_type": "stream",
          "name": "stdout",
          "text": [
            "[0 1 2 3 4 5 6 7 8 9]\n",
            "7\n"
          ]
        }
      ]
    },
    {
      "cell_type": "markdown",
      "source": [
        "How to get weighted random choice in Python?"
      ],
      "metadata": {
        "id": "j7JuLFxHSImA"
      }
    },
    {
      "cell_type": "code",
      "source": [
        "# using preview list:\n",
        "print(r_list)\n",
        "\n",
        "weights=[0.1, 0.075 , 0.125, 0.125, 0.075, 0.2, 0.05, 0.15, 0.05, 0.05] #must have same size of r_list and if its sum the total is one\n",
        "\n",
        "rw_list = np.random.choice(r_list, p=weights)\n",
        "print(rw_list)\n"
      ],
      "metadata": {
        "colab": {
          "base_uri": "https://localhost:8080/"
        },
        "id": "NXcZHYLuTwRK",
        "outputId": "f99d28ff-792d-4bb0-bec7-503f7aee02cb"
      },
      "execution_count": null,
      "outputs": [
        {
          "output_type": "stream",
          "name": "stdout",
          "text": [
            "[0 1 2 3 4 5 6 7 8 9]\n",
            "2\n"
          ]
        }
      ]
    },
    {
      "cell_type": "markdown",
      "source": [
        "Generate Random Numbers From The Uniform Distribution using NumPy"
      ],
      "metadata": {
        "id": "9fjZnqq8SK1C"
      }
    },
    {
      "cell_type": "code",
      "source": [
        "rn_uniform = np.random.uniform(low = 0.0, high = 10.0, size = 5)\n",
        "print(rn_uniform)"
      ],
      "metadata": {
        "colab": {
          "base_uri": "https://localhost:8080/"
        },
        "id": "WlbZsTzYXAI2",
        "outputId": "d83c6454-bbe8-42e1-dbd9-98212dc7cccf"
      },
      "execution_count": null,
      "outputs": [
        {
          "output_type": "stream",
          "name": "stdout",
          "text": [
            "[3.94782014 9.88691727 2.516734   3.84280535 1.49407196]\n"
          ]
        }
      ]
    },
    {
      "cell_type": "markdown",
      "source": [
        "Get Random Elements form geometric distribution"
      ],
      "metadata": {
        "id": "gceQ8mhrSMOn"
      }
    },
    {
      "cell_type": "code",
      "source": [
        "rn_geometric = np.random.geometric(0.15, size = 5)\n",
        "print(rn_geometric)"
      ],
      "metadata": {
        "colab": {
          "base_uri": "https://localhost:8080/"
        },
        "id": "_0OyPd9uXUsL",
        "outputId": "553c43cd-645c-42e9-8fec-9722796a904a"
      },
      "execution_count": null,
      "outputs": [
        {
          "output_type": "stream",
          "name": "stdout",
          "text": [
            "[11  1 10  2  4]\n"
          ]
        }
      ]
    },
    {
      "cell_type": "markdown",
      "source": [
        "Get Random elements from Laplace distribution"
      ],
      "metadata": {
        "id": "tXAuc4ggSO8c"
      }
    },
    {
      "cell_type": "code",
      "source": [
        "rn_laplace= np.random.laplace(1.3, 12, size = 5)\n",
        "print(rn_laplace)"
      ],
      "metadata": {
        "colab": {
          "base_uri": "https://localhost:8080/"
        },
        "id": "-3A7JNI9X2eq",
        "outputId": "935b89a1-1951-45e4-d8b0-02b9e695ee0f"
      },
      "execution_count": null,
      "outputs": [
        {
          "output_type": "stream",
          "name": "stdout",
          "text": [
            "[ 9.75324236 10.96294971 -0.67379767 -0.51513459  0.16836617]\n"
          ]
        }
      ]
    },
    {
      "cell_type": "markdown",
      "source": [
        "Return a Matrix of random values from a uniform distribution"
      ],
      "metadata": {
        "id": "FdYN1wxOSRSm"
      }
    },
    {
      "cell_type": "code",
      "source": [
        "random_matrix_ud = np.random.rand(3, 4)\n",
        "print(random_matrix_ud)"
      ],
      "metadata": {
        "colab": {
          "base_uri": "https://localhost:8080/"
        },
        "id": "eupzaz1lYayz",
        "outputId": "925c31d7-829e-495f-f8ac-f86dc6987dec"
      },
      "execution_count": null,
      "outputs": [
        {
          "output_type": "stream",
          "name": "stdout",
          "text": [
            "[[0.93166341 0.36359997 0.85069702 0.94772909]\n",
            " [0.93607858 0.54511423 0.11921963 0.42106594]\n",
            " [0.71442621 0.95265108 0.34978578 0.5243496 ]]\n"
          ]
        }
      ]
    },
    {
      "cell_type": "markdown",
      "source": [
        "Return a Matrix of random values from a Gaussian distribution"
      ],
      "metadata": {
        "id": "sBIKyW2wSS6z"
      }
    },
    {
      "cell_type": "code",
      "source": [
        "random_matrix_gd = np.random.normal(size = (3, 4))\n",
        "print(random_matrix_gd)"
      ],
      "metadata": {
        "colab": {
          "base_uri": "https://localhost:8080/"
        },
        "id": "BtdsgP6KZyng",
        "outputId": "b4c377e7-6284-4a21-a3f1-3065671019a4"
      },
      "execution_count": null,
      "outputs": [
        {
          "output_type": "stream",
          "name": "stdout",
          "text": [
            "[[ 0.65396796 -0.10868011  0.09556491  1.2548927 ]\n",
            " [ 1.01038431  1.68942387  0.57273841  0.65485482]\n",
            " [-2.38222244 -1.4510247  -0.29639769 -0.55047185]]\n"
          ]
        }
      ]
    },
    {
      "cell_type": "markdown",
      "source": [
        "# Questions on NumPy Sorting and Searching"
      ],
      "metadata": {
        "id": "E1vtbFWOCLfY"
      }
    },
    {
      "cell_type": "markdown",
      "source": [
        "How to get the indices of the sorted array using NumPy in Python?"
      ],
      "metadata": {
        "id": "cHbqs9x-aJKP"
      }
    },
    {
      "cell_type": "code",
      "source": [
        "s_array = np.array([4, 87, 63, 42, 9])\n",
        "print(s_array)\n",
        "sort_index = np.argsort(s_array)\n",
        "print(sort_index)"
      ],
      "metadata": {
        "colab": {
          "base_uri": "https://localhost:8080/"
        },
        "id": "34Ki0XzrdiIb",
        "outputId": "ad126133-7ec5-4c30-f825-7df4ecb88a3d"
      },
      "execution_count": null,
      "outputs": [
        {
          "output_type": "stream",
          "name": "stdout",
          "text": [
            "[ 4 87 63 42  9]\n",
            "[0 4 3 2 1]\n"
          ]
        }
      ]
    },
    {
      "cell_type": "markdown",
      "source": [
        "Finding the k smallest values of a NumPy array"
      ],
      "metadata": {
        "id": "ubdHFkiSaJ5B"
      }
    },
    {
      "cell_type": "code",
      "source": [
        "s_array2 = np.array([4, 87, 63, 10, 42, 100, 20, 36, 2, 9])\n",
        "k = 3\n",
        "print(s_array2)\n",
        "result_k = np.argpartition(s_array2, k)\n",
        "rk = s_array2[result_k[:k]]\n",
        "print(f'\\nthe {k} smallest elements of the array:\\n{rk}')\n"
      ],
      "metadata": {
        "colab": {
          "base_uri": "https://localhost:8080/"
        },
        "id": "76UHehHwepCL",
        "outputId": "68070dc3-e496-436b-bbb6-b1c093622454"
      },
      "execution_count": null,
      "outputs": [
        {
          "output_type": "stream",
          "name": "stdout",
          "text": [
            "[  4  87  63  10  42 100  20  36   2   9]\n",
            "\n",
            "the 3 smallest elements of the array:\n",
            "[2 4 9]\n"
          ]
        }
      ]
    },
    {
      "cell_type": "markdown",
      "source": [
        "How to get the n-largest values of an array using NumPy?"
      ],
      "metadata": {
        "id": "XM72HU-QaLd2"
      }
    },
    {
      "cell_type": "code",
      "source": [
        "# using the array of previews question\n",
        "n = 3\n",
        "print(s_array2)\n",
        "sorted_index_s_array2 = np.argsort(s_array2)\n",
        "sorted_s_array2 = s_array2[sorted_index_s_array2]\n",
        "print(sorted_s_array2)\n",
        "rn = sorted_s_array2[-n:]\n",
        "print(f'\\nthe {n} largest values of the array:\\n{rn}')\n"
      ],
      "metadata": {
        "colab": {
          "base_uri": "https://localhost:8080/"
        },
        "id": "Rrqor-UZjA0Z",
        "outputId": "dada37c3-63c2-4582-e403-ae205425a115"
      },
      "execution_count": null,
      "outputs": [
        {
          "output_type": "stream",
          "name": "stdout",
          "text": [
            "[  4  87  63  10  42 100  20  36   2   9]\n",
            "[  2   4   9  10  20  36  42  63  87 100]\n",
            "\n",
            "the 3 largest values of the array:\n",
            "[ 63  87 100]\n"
          ]
        }
      ]
    },
    {
      "cell_type": "markdown",
      "source": [
        "Sort the values in a matrix"
      ],
      "metadata": {
        "id": "aWiYRSQwaN3t"
      }
    },
    {
      "cell_type": "code",
      "source": [
        "\n",
        "unsorted_matrix = np.matrix('[7, 6, 3; 1, 12, 6; 4, 8, 9]')\n",
        "unsorted_matrix2 = np.matrix('[7, 6, 3; 1, 12, 6; 4, 8, 9]')\n",
        "\n",
        "print(unsorted_matrix)\n",
        "unsorted_matrix.sort(axis = 1)\n",
        "print('\\nsort rows\\n',unsorted_matrix)\n",
        "\n",
        "unsorted_matrix2.sort(axis = 0)\n",
        "print('\\nsort columns:\\n',unsorted_matrix2)\n",
        "\n",
        "unsorted_matrix.sort(axis = 0)\n",
        "print('\\nsort rows first and then columns\\n',unsorted_matrix)"
      ],
      "metadata": {
        "colab": {
          "base_uri": "https://localhost:8080/"
        },
        "id": "Ek8wy0WTj83W",
        "outputId": "0cb76e3b-aa07-4c53-96c1-3fb14dab598e"
      },
      "execution_count": null,
      "outputs": [
        {
          "output_type": "stream",
          "name": "stdout",
          "text": [
            "[[ 7  6  3]\n",
            " [ 1 12  6]\n",
            " [ 4  8  9]]\n",
            "\n",
            "sort rows\n",
            " [[ 3  6  7]\n",
            " [ 1  6 12]\n",
            " [ 4  8  9]]\n",
            "\n",
            "sort columns:\n",
            " [[ 1  6  3]\n",
            " [ 4  8  6]\n",
            " [ 7 12  9]]\n",
            "\n",
            "sort rows first and then columns\n",
            " [[ 1  6  7]\n",
            " [ 3  6  9]\n",
            " [ 4  8 12]]\n"
          ]
        }
      ]
    },
    {
      "cell_type": "markdown",
      "source": [
        "Filter out integers from float numpy array"
      ],
      "metadata": {
        "id": "Dm83KQw6aPu1"
      }
    },
    {
      "cell_type": "code",
      "source": [
        "float_array = np.array([7, 1.87, 3.0, 2.3, 3.1, 2])\n",
        "print(float_array)\n",
        "\n",
        "intfromfloat_array1 = float_array[~np.equal(np.mod(float_array, 1), 0)]\n",
        "print(intfromfloat_array1)\n"
      ],
      "metadata": {
        "colab": {
          "base_uri": "https://localhost:8080/"
        },
        "id": "Xwoj5s29lIO5",
        "outputId": "d9bd1ca2-8d0a-48de-ffad-b106af1a59e0"
      },
      "execution_count": null,
      "outputs": [
        {
          "output_type": "stream",
          "name": "stdout",
          "text": [
            "[7.   1.87 3.   2.3  3.1  2.  ]\n",
            "[1.87 2.3  3.1 ]\n"
          ]
        }
      ]
    },
    {
      "cell_type": "markdown",
      "source": [
        "Find the indices into a sorted array"
      ],
      "metadata": {
        "id": "q1BJNfT0aRTx"
      }
    },
    {
      "cell_type": "code",
      "source": [
        "# using preview question array\n",
        "print(s_array)\n",
        "\n",
        "sort_index = np.argsort(s_array)\n",
        "print(sort_index)"
      ],
      "metadata": {
        "colab": {
          "base_uri": "https://localhost:8080/"
        },
        "id": "hnJqH_2Xm-N_",
        "outputId": "c7a054d5-c850-4888-a273-9d7636d1d62a"
      },
      "execution_count": null,
      "outputs": [
        {
          "output_type": "stream",
          "name": "stdout",
          "text": [
            "[ 4 87 63 42  9]\n",
            "[0 4 3 2 1]\n"
          ]
        }
      ]
    },
    {
      "cell_type": "markdown",
      "source": [
        "# Questions on NumPy Mathematics 15"
      ],
      "metadata": {
        "id": "qCGorvNcoLLN"
      }
    },
    {
      "cell_type": "markdown",
      "source": [
        "How to get element-wise true division of an array using Numpy?"
      ],
      "metadata": {
        "id": "CdIjThBBT7Ic"
      }
    },
    {
      "cell_type": "code",
      "source": [
        "array_elements = np.arange(1, 9)\n",
        "\n",
        "print(array_elements)\n",
        "true_division_r = np.true_divide(array_elements, 4)\n",
        "\n",
        "print(f'true division of elements by 4: {true_division_r}')"
      ],
      "metadata": {
        "colab": {
          "base_uri": "https://localhost:8080/"
        },
        "id": "5l7rOB7pt2YG",
        "outputId": "27e8098e-ced5-4896-b245-793bf44cace9"
      },
      "execution_count": null,
      "outputs": [
        {
          "output_type": "stream",
          "name": "stdout",
          "text": [
            "[1 2 3 4 5 6 7 8]\n",
            "true division of elements by 4: [0.25 0.5  0.75 1.   1.25 1.5  1.75 2.  ]\n"
          ]
        }
      ]
    },
    {
      "cell_type": "markdown",
      "source": [
        "How to calculate the element-wise absolute value of NumPy array?"
      ],
      "metadata": {
        "id": "EPxvJeqAuoEn"
      }
    },
    {
      "cell_type": "code",
      "source": [
        "\n",
        "array_elements2 = np.array([[-5, 7, -3],[-2, 4, 3]])\n",
        "print(array_elements2)\n",
        "absolute_value = np.absolute(array_elements2)\n",
        "print('\\n', absolute_value)"
      ],
      "metadata": {
        "colab": {
          "base_uri": "https://localhost:8080/"
        },
        "id": "zH_qlLY-uo0N",
        "outputId": "a6290dc1-feb6-4449-b05e-0d64087f14ed"
      },
      "execution_count": null,
      "outputs": [
        {
          "output_type": "stream",
          "name": "stdout",
          "text": [
            "[[-5  7 -3]\n",
            " [-2  4  3]]\n",
            "\n",
            " [[5 7 3]\n",
            " [2 4 3]]\n"
          ]
        }
      ]
    },
    {
      "cell_type": "markdown",
      "source": [
        "Compute the negative of the NumPy array"
      ],
      "metadata": {
        "id": "H2EdWqJOvygC"
      }
    },
    {
      "cell_type": "code",
      "source": [
        "#using above array\n",
        "print(array_elements2)\n",
        "\n",
        "neg_absolute_value = np.negative(array_elements2)\n",
        "print('\\n', neg_absolute_value)"
      ],
      "metadata": {
        "colab": {
          "base_uri": "https://localhost:8080/"
        },
        "id": "vDkFIRbXvzYI",
        "outputId": "9c8165a8-4c17-4b7a-b7f9-9aed31a891ff"
      },
      "execution_count": null,
      "outputs": [
        {
          "output_type": "stream",
          "name": "stdout",
          "text": [
            "[[-5  7 -3]\n",
            " [-2  4  3]]\n",
            "\n",
            " [[ 5 -7  3]\n",
            " [ 2 -4 -3]]\n"
          ]
        }
      ]
    },
    {
      "cell_type": "markdown",
      "source": [
        "Multiply 2d numpy array corresponding to 1d array"
      ],
      "metadata": {
        "id": "9XfMTUCCw-l8"
      }
    },
    {
      "cell_type": "code",
      "source": [
        "mult_array2d = np.array([[3, 2, 3], [4, 7, 5], [4, 1, 2]])\n",
        "mult_array1d = np.array([0, 2, 3])\n",
        "mult1d2d = mult_array2d * mult_array1d[:, np.newaxis]\n",
        "print(f'{mult_array2d} \\n*\\n {mult_array1d}\\n\\nresult:\\n {mult1d2d}')\n"
      ],
      "metadata": {
        "colab": {
          "base_uri": "https://localhost:8080/"
        },
        "id": "bXtTJXPLw9k6",
        "outputId": "5c343e1c-dad0-4da4-e3b9-c216fe88c068"
      },
      "execution_count": null,
      "outputs": [
        {
          "output_type": "stream",
          "name": "stdout",
          "text": [
            "[[3 2 3]\n",
            " [4 7 5]\n",
            " [4 1 2]] \n",
            "*\n",
            " [0 2 3]\n",
            "\n",
            "result:\n",
            " [[ 0  0  0]\n",
            " [ 8 14 10]\n",
            " [12  3  6]]\n"
          ]
        }
      ]
    },
    {
      "cell_type": "markdown",
      "source": [
        "Computes the inner product of two arrays"
      ],
      "metadata": {
        "id": "TdRroupEySMy"
      }
    },
    {
      "cell_type": "code",
      "source": [
        "# using mult_array1d with new array\n",
        "inner_array1 = np.array([7, 8, 4])\n",
        "inner_2result = np.inner(mult_array1d, inner_array1)\n",
        "print(f'{mult_array1d} \\nproduto interno\\n {inner_array1}\\n\\nresult:\\n {inner_2result}')"
      ],
      "metadata": {
        "colab": {
          "base_uri": "https://localhost:8080/"
        },
        "id": "5uBbvYg9ycGn",
        "outputId": "aa18371c-447b-42ee-b074-2e45a5145118"
      },
      "execution_count": null,
      "outputs": [
        {
          "output_type": "stream",
          "name": "stdout",
          "text": [
            "[0 2 3] \n",
            "produto interno\n",
            " [7 8 4]\n",
            "\n",
            "result:\n",
            " 28\n"
          ]
        }
      ]
    },
    {
      "cell_type": "markdown",
      "source": [
        "Compute the nth percentile of the NumPy array"
      ],
      "metadata": {
        "id": "TJicDMK5zjNw"
      }
    },
    {
      "cell_type": "code",
      "source": [
        "percentile_array = np.array([4, 81, 64, 16, 49, 25, 85, 68, 18])\n",
        "# usually 25, 50(md), 75\n",
        "n_percentile = int(input(f'{percentile_array}\\ntype the n intend to give nth percentile from array above:'))\n",
        "print(f\"\\n{n_percentile}th percentile is: {np.percentile(percentile_array, n_percentile)} \")\n"
      ],
      "metadata": {
        "colab": {
          "base_uri": "https://localhost:8080/"
        },
        "id": "RKjnKyjnzj9T",
        "outputId": "b4bcc2ff-e02c-40b7-ca9c-87eb966df50f"
      },
      "execution_count": null,
      "outputs": [
        {
          "output_type": "stream",
          "name": "stdout",
          "text": [
            "[ 4 81 64 16 49 25 85 68 18]\n",
            "type the n intend to give nth percentile from array above:25\n",
            "\n",
            "25th percentile is: 18.0 \n"
          ]
        }
      ]
    },
    {
      "cell_type": "markdown",
      "source": [
        "Calculate the n-th order discrete difference along the given axis"
      ],
      "metadata": {
        "id": "gQXOTWWP10JE"
      }
    },
    {
      "cell_type": "code",
      "source": [
        "# using preview percentile_array taking n = 1, n = 2 and n = 3\n",
        "\n",
        "print(\"1st order difference: \", np.diff(percentile_array, n = 1))\n",
        "print(\"2nd order difference: \", np.diff(percentile_array, n = 2))\n",
        "print(\"3rd order difference: \", np.diff(percentile_array, n = 3))"
      ],
      "metadata": {
        "colab": {
          "base_uri": "https://localhost:8080/"
        },
        "id": "y7MXG-uF106m",
        "outputId": "18ad333a-2b8c-4c13-eb1e-469e89b7face"
      },
      "execution_count": null,
      "outputs": [
        {
          "output_type": "stream",
          "name": "stdout",
          "text": [
            "1st order difference:  [ 77 -17 -48  33 -24  60 -17 -50]\n",
            "2nd order difference:  [-94 -31  81 -57  84 -77 -33]\n",
            "3rd order difference:  [  63  112 -138  141 -161   44]\n"
          ]
        }
      ]
    },
    {
      "cell_type": "markdown",
      "source": [
        "Calculate the sum of all columns in a 2D NumPy array"
      ],
      "metadata": {
        "id": "BzelsTQA2m5r"
      }
    },
    {
      "cell_type": "code",
      "source": [
        "# using mult_array2d\n",
        "print(f'soma das colunas da matriz:\\n{mult_array2d}\\n')\n",
        "\n",
        "column_sum = np.sum(mult_array2d, axis = 0)\n",
        "print(column_sum)"
      ],
      "metadata": {
        "colab": {
          "base_uri": "https://localhost:8080/"
        },
        "id": "NAAW1PIG2ne9",
        "outputId": "114f26db-0e05-4ddd-a9e6-5d20874ba74e"
      },
      "execution_count": null,
      "outputs": [
        {
          "output_type": "stream",
          "name": "stdout",
          "text": [
            "soma das colunas da matriz:\n",
            "[[3 2 3]\n",
            " [4 7 5]\n",
            " [4 1 2]]\n",
            "\n",
            "[11 10 10]\n"
          ]
        }
      ]
    },
    {
      "cell_type": "markdown",
      "source": [
        "Calculate average values of two given NumPy arrays"
      ],
      "metadata": {
        "id": "HVFhoF2n3svn"
      }
    },
    {
      "cell_type": "code",
      "source": [
        "# using previews mult_array2d and new_array2d\n",
        "\n",
        "new_array2d = np.array([[1, 8, 2], [6, 8, 5], [4, 3, 7]])\n",
        "sum = np.add(new_array2d, mult_array2d)\n",
        "average = np.divide(sum, 2)\n",
        "print(average)"
      ],
      "metadata": {
        "colab": {
          "base_uri": "https://localhost:8080/"
        },
        "id": "qSIMpu0k3tUj",
        "outputId": "3c6112bc-4a49-4e49-c24d-b7d1ca9e7c96"
      },
      "execution_count": null,
      "outputs": [
        {
          "output_type": "stream",
          "name": "stdout",
          "text": [
            "[[2.  5.  2.5]\n",
            " [5.  7.5 5. ]\n",
            " [4.  2.  4.5]]\n"
          ]
        }
      ]
    },
    {
      "cell_type": "markdown",
      "source": [
        "How to compute numerical negative value for all elements in a given NumPy array?"
      ],
      "metadata": {
        "id": "HIdVlDdr5RH8"
      }
    },
    {
      "cell_type": "code",
      "source": [
        "# using above array_elements2\n",
        "neg_numeric_value = np.negative(array_elements2)\n",
        "print(array_elements2, '\\n\\n', neg_numeric_value)"
      ],
      "metadata": {
        "colab": {
          "base_uri": "https://localhost:8080/"
        },
        "id": "bqgklsZI5fKT",
        "outputId": "43e71103-5b7a-4352-99bd-2b1ea209315f"
      },
      "execution_count": null,
      "outputs": [
        {
          "output_type": "stream",
          "name": "stdout",
          "text": [
            "[[-5  7 -3]\n",
            " [-2  4  3]] \n",
            "\n",
            " [[ 5 -7  3]\n",
            " [ 2 -4 -3]]\n"
          ]
        }
      ]
    },
    {
      "cell_type": "markdown",
      "source": [
        "How to get the floor, ceiling and truncated values of the elements of a numpy array?"
      ],
      "metadata": {
        "id": "wIp91FjV6Gfa"
      }
    },
    {
      "cell_type": "code",
      "source": [
        "float_array2 = np.array([1.2, 2.5, 3.8, 2.13, 1.75, 0.25])\n",
        "\n",
        "floor_v = np.floor(float_array2)\n",
        "ceiling_v = np.ceil(float_array2)\n",
        "truncated_v = np.trunc(float_array2)\n",
        "\n",
        "print(f'array: {float_array2}\\nfloor: {floor_v}\\nceiling: {ceiling_v}\\ntruncated: {truncated_v}')"
      ],
      "metadata": {
        "colab": {
          "base_uri": "https://localhost:8080/"
        },
        "id": "Ip7KIc2y6Hox",
        "outputId": "b9fa475c-ddc7-44bf-ec42-ea5fce1ffaea"
      },
      "execution_count": null,
      "outputs": [
        {
          "output_type": "stream",
          "name": "stdout",
          "text": [
            "array: [1.2  2.5  3.8  2.13 1.75 0.25]\n",
            "floor: [1. 2. 3. 2. 1. 0.]\n",
            "ceiling: [2. 3. 4. 3. 2. 1.]\n",
            "truncated: [1. 2. 3. 2. 1. 0.]\n"
          ]
        }
      ]
    },
    {
      "cell_type": "markdown",
      "source": [
        "How to round elements of the NumPy array to the nearest integer?"
      ],
      "metadata": {
        "id": "Owxapx2y7z4r"
      }
    },
    {
      "cell_type": "code",
      "source": [
        "#using float_array2 from above\n",
        "round_int_array = np.rint(float_array2)\n",
        "print(f'array: {float_array2}\\nround array: {round_int_array}')"
      ],
      "metadata": {
        "colab": {
          "base_uri": "https://localhost:8080/"
        },
        "id": "IpgObIjg71L0",
        "outputId": "65b42953-8fad-4f46-9b96-0ec3883cc397"
      },
      "execution_count": null,
      "outputs": [
        {
          "output_type": "stream",
          "name": "stdout",
          "text": [
            "array: [1.2  2.5  3.8  2.13 1.75 0.25]\n",
            "round array: [1. 2. 4. 2. 2. 0.]\n"
          ]
        }
      ]
    },
    {
      "cell_type": "markdown",
      "source": [
        "Find the round off the values of the given matrix"
      ],
      "metadata": {
        "id": "qDRDvn6T8g79"
      }
    },
    {
      "cell_type": "code",
      "source": [
        "float_matrix = np.matrix([[6.4, 4.9, 2.8], [3.3, 1.25, 2.85], [7.9, 3.2, 4.5]])\n",
        "round_matrix = float_matrix.round()\n",
        "print(f'matrix: {float_matrix}\\nround matrix: {round_matrix}')"
      ],
      "metadata": {
        "colab": {
          "base_uri": "https://localhost:8080/"
        },
        "id": "-wE2RuqO8hok",
        "outputId": "749b39dd-8140-424b-ba04-75a5adcf6a51"
      },
      "execution_count": null,
      "outputs": [
        {
          "output_type": "stream",
          "name": "stdout",
          "text": [
            "matrix: [[6.4  4.9  2.8 ]\n",
            " [3.3  1.25 2.85]\n",
            " [7.9  3.2  4.5 ]]\n",
            "round matrix: [[6. 5. 3.]\n",
            " [3. 1. 3.]\n",
            " [8. 3. 4.]]\n"
          ]
        }
      ]
    },
    {
      "cell_type": "markdown",
      "source": [
        "Determine the positive square-root of an array"
      ],
      "metadata": {
        "id": "ai7EA0pS9L9G"
      }
    },
    {
      "cell_type": "code",
      "source": [
        "# using percentile_array\n",
        "sq_root_array = np.sqrt(percentile_array)\n",
        "print(f'array: {percentile_array}\\narray square root:\\n {sq_root_array}')"
      ],
      "metadata": {
        "colab": {
          "base_uri": "https://localhost:8080/"
        },
        "id": "Et-ChG4V9Mn9",
        "outputId": "b09934f1-d996-4091-83d4-e017d40c6375"
      },
      "execution_count": null,
      "outputs": [
        {
          "output_type": "stream",
          "name": "stdout",
          "text": [
            "array: [ 4 81 64 16 49 25 85 68 18]\n",
            "array square root:\n",
            " [2.         9.         8.         4.         7.         5.\n",
            " 9.21954446 8.24621125 4.24264069]\n"
          ]
        }
      ]
    },
    {
      "cell_type": "markdown",
      "source": [
        "Evaluate Einstein’s summation convention of two multidimensional NumPy arrays"
      ],
      "metadata": {
        "id": "ZO4NrmrjGlQ4"
      }
    },
    {
      "cell_type": "code",
      "source": [
        "# using previews mult_array2d and new_array2d\n",
        "\n",
        "print(f'Matrix 1:\\n {mult_array2d}\\n\\nMatrix 2:\\n {new_array2d}\\n\\n')\n",
        "ein_sum = np.einsum(\"mk,kn\", mult_array2d, new_array2d)\n",
        "print(f'Einstein’s summation convention: \\n{ein_sum}')"
      ],
      "metadata": {
        "colab": {
          "base_uri": "https://localhost:8080/"
        },
        "id": "ll31oF9QFpHF",
        "outputId": "28564c35-9d17-4b3e-80ca-44b993a93722"
      },
      "execution_count": null,
      "outputs": [
        {
          "output_type": "stream",
          "name": "stdout",
          "text": [
            "Matrix 1:\n",
            " [[3 2 3]\n",
            " [4 7 5]\n",
            " [4 1 2]]\n",
            "\n",
            "Matrix 2:\n",
            " [[1 8 2]\n",
            " [6 8 5]\n",
            " [4 3 7]]\n",
            "\n",
            "\n",
            "Einstein’s summation convention: \n",
            "[[ 27  49  37]\n",
            " [ 66 103  78]\n",
            " [ 18  46  27]]\n"
          ]
        }
      ]
    },
    {
      "cell_type": "markdown",
      "source": [
        "# Questions on NumPy Statistics"
      ],
      "metadata": {
        "id": "lK5GgfxGoErh"
      }
    },
    {
      "cell_type": "markdown",
      "source": [
        "Compute the median of the flattened NumPy array"
      ],
      "metadata": {
        "id": "uzNLMuwCxXSo"
      }
    },
    {
      "cell_type": "code",
      "source": [
        "array_md = np.arange(1, 10)\n",
        "print(array_md)\n",
        "med_array = np.median(array_md)\n",
        "print(f'Mediana: {med_array}')"
      ],
      "metadata": {
        "colab": {
          "base_uri": "https://localhost:8080/"
        },
        "id": "yFky4OgvxX6I",
        "outputId": "831bac0b-ed9a-4dc7-c630-adee125a2eb9"
      },
      "execution_count": null,
      "outputs": [
        {
          "output_type": "stream",
          "name": "stdout",
          "text": [
            "[1 2 3 4 5 6 7 8 9]\n",
            "Mediana: 5.0\n"
          ]
        }
      ]
    },
    {
      "cell_type": "markdown",
      "source": [
        "Find Mean of a List of Numpy Array"
      ],
      "metadata": {
        "id": "jdSNzD2DyQrE"
      }
    },
    {
      "cell_type": "code",
      "source": [
        "array_list =[np.array([1, 3, 6]), np.array([9, 5, 2]), np.array([17, 4, 7])]\n",
        "\n",
        "for array_item in array_list:\n",
        "  mean_array = np.mean(array_item)\n",
        "  print(f'{array_item}\\nMédia: {mean_array}\\n')"
      ],
      "metadata": {
        "colab": {
          "base_uri": "https://localhost:8080/"
        },
        "id": "x3MnMtK-yRX-",
        "outputId": "b12354c4-3f96-4f34-c30e-eafca3713e8d"
      },
      "execution_count": null,
      "outputs": [
        {
          "output_type": "stream",
          "name": "stdout",
          "text": [
            "[1 3 6]\n",
            "Média: 3.3333333333333335\n",
            "\n",
            "[9 5 2]\n",
            "Média: 5.333333333333333\n",
            "\n",
            "[17  4  7]\n",
            "Média: 9.333333333333334\n",
            "\n"
          ]
        }
      ]
    },
    {
      "cell_type": "markdown",
      "source": [
        "Calculate the mean of array ignoring the NaN value"
      ],
      "metadata": {
        "id": "i9PnI89ayQno"
      }
    },
    {
      "cell_type": "code",
      "source": [
        "nan_array_mean = np.array([8, 12, np.nan, 3, 21, np.nan])\n",
        "mean_nan = np.mean(nan_array_mean)\n",
        "mean_no_nan = np.nanmean(nan_array_mean)\n",
        "\n",
        "print(f'Média sem ignorar os NaN: {mean_nan}\\nMédia ignorando os valores NaN: {mean_no_nan}')"
      ],
      "metadata": {
        "colab": {
          "base_uri": "https://localhost:8080/"
        },
        "id": "JrWgiB1-zYZA",
        "outputId": "f9bd449f-743c-4752-aea3-bf02450e384c"
      },
      "execution_count": null,
      "outputs": [
        {
          "output_type": "stream",
          "name": "stdout",
          "text": [
            "Média sem ignorar os NaN: nan\n",
            "Média ignorando os valores NaN: 11.0\n"
          ]
        }
      ]
    },
    {
      "cell_type": "markdown",
      "source": [
        "Get the mean value from given matrix"
      ],
      "metadata": {
        "id": "ZlUBBOfC0gIc"
      }
    },
    {
      "cell_type": "code",
      "source": [
        "mean_matrix = np.matrix([[8, 7, 3], [2, 1, 4], [4, 3, 4]])\n",
        "mean_vl_mx = np.mean(mean_matrix)\n",
        "print(f'{mean_matrix}\\nMédia da matrix: {mean_vl_mx}')"
      ],
      "metadata": {
        "colab": {
          "base_uri": "https://localhost:8080/"
        },
        "id": "Nc3AN3wD0gyn",
        "outputId": "abbb1859-8efe-4968-bc2e-47a8e4704bcf"
      },
      "execution_count": null,
      "outputs": [
        {
          "output_type": "stream",
          "name": "stdout",
          "text": [
            "[[8 7 3]\n",
            " [2 1 4]\n",
            " [4 3 4]]\n",
            "Média da matrix: 4.0\n"
          ]
        }
      ]
    },
    {
      "cell_type": "markdown",
      "source": [
        "Compute the variance of the NumPy array"
      ],
      "metadata": {
        "id": "8b1emlkH1dAu"
      }
    },
    {
      "cell_type": "code",
      "source": [
        "array_v = np.array([3, 8, 9, 1, 5, 2, 4])\n",
        "variance_array_v = np.var(array_v)\n",
        "print(f'{array_v}\\nVariance: {variance_array_v}')"
      ],
      "metadata": {
        "colab": {
          "base_uri": "https://localhost:8080/"
        },
        "id": "vzBxqxB11dlJ",
        "outputId": "b70f6649-9755-4b7c-b0c6-5ff92176b686"
      },
      "execution_count": null,
      "outputs": [
        {
          "output_type": "stream",
          "name": "stdout",
          "text": [
            "[3 8 9 1 5 2 4]\n",
            "Variance: 7.673469387755103\n"
          ]
        }
      ]
    },
    {
      "cell_type": "markdown",
      "source": [
        "Compute the standard deviation of the NumPy array"
      ],
      "metadata": {
        "id": "XGnCgUdJ1-If"
      }
    },
    {
      "cell_type": "code",
      "source": [
        "sd_array_v = np.std(array_v)\n",
        "print(f'{array_v}\\nStandard deviation: {sd_array_v}')"
      ],
      "metadata": {
        "colab": {
          "base_uri": "https://localhost:8080/"
        },
        "id": "b-UdmTsJ1_dz",
        "outputId": "4a75f7f6-40e9-4c18-88bd-f0d80f405155"
      },
      "execution_count": null,
      "outputs": [
        {
          "output_type": "stream",
          "name": "stdout",
          "text": [
            "[3 8 9 1 5 2 4]\n",
            "Standard deviation: 2.770102775666474\n"
          ]
        }
      ]
    },
    {
      "cell_type": "markdown",
      "source": [
        "Compute pearson product-moment correlation coefficients of two given NumPy arrays"
      ],
      "metadata": {
        "id": "9s3SPv3J3IUN"
      }
    },
    {
      "cell_type": "code",
      "source": [
        "pearson_array1 = np.array([3, 2, 5])\n",
        "pearson_array2 = np.array([1, 4, 8])\n",
        "pearson_coef = np.corrcoef(pearson_array1, pearson_array2)\n",
        "print(f'The pearson coef between {pearson_array1} and {pearson_array2} is:\\n {pearson_coef}')"
      ],
      "metadata": {
        "colab": {
          "base_uri": "https://localhost:8080/"
        },
        "id": "7F2W7vs03I_A",
        "outputId": "d2efa558-4583-4e54-a57a-feb4b62c1f89"
      },
      "execution_count": null,
      "outputs": [
        {
          "output_type": "stream",
          "name": "stdout",
          "text": [
            "The pearson coef between [3 2 5] and [1 4 8] is:\n",
            " [[1.         0.71457523]\n",
            " [0.71457523 1.        ]]\n"
          ]
        }
      ]
    },
    {
      "cell_type": "markdown",
      "source": [
        "Calculate the mean across dimension in a 2D NumPy array"
      ],
      "metadata": {
        "id": "Y25mx1p24MKk"
      }
    },
    {
      "cell_type": "code",
      "source": [
        "arr = np.array([[1, 2, 3], [4, 5, 6], [7, 8, 9]])\n",
        "\n",
        "#rows\n",
        "row_mean = np.mean(arr, axis=1)\n",
        "for i in range(0, 3):\n",
        "  row_mean_sel = row_mean[i]\n",
        "  print(f\"mean row {i+1} is: {row_mean_sel}\")\n",
        "print('\\n')\n",
        "column_mean = np.mean(arr, axis=0)\n",
        "for j in range(0, 3):\n",
        "  column_mean_sel = column_mean[j]\n",
        "  print(f\"mean column {j+1} is: {column_mean_sel}\")\n"
      ],
      "metadata": {
        "colab": {
          "base_uri": "https://localhost:8080/"
        },
        "id": "vDVFdOPD4NNV",
        "outputId": "7243c2c4-bda3-411e-f355-e8d3a04b5231"
      },
      "execution_count": null,
      "outputs": [
        {
          "output_type": "stream",
          "name": "stdout",
          "text": [
            "mean row 1 is: 2.0\n",
            "mean row 2 is: 5.0\n",
            "mean row 3 is: 8.0\n",
            "\n",
            "\n",
            "mean column 1 is: 4.0\n",
            "mean column 2 is: 5.0\n",
            "mean column 3 is: 6.0\n"
          ]
        }
      ]
    },
    {
      "cell_type": "markdown",
      "source": [
        "Calculate the average, variance and standard deviation in Python using NumPy"
      ],
      "metadata": {
        "id": "LglfSzQy5pGE"
      }
    },
    {
      "cell_type": "code",
      "source": [
        "# using previous array_v we have:\n",
        "average_array_v = np.average(array_v)\n",
        "variance_array_v = np.var(array_v)\n",
        "sd_array_v = np.std(array_v)\n",
        "print(f'{array_v}\\nAverage: {average_array_v}')\n",
        "print(f'Variance: {variance_array_v}')\n",
        "print(f'Standard deviation: {sd_array_v}')\n"
      ],
      "metadata": {
        "colab": {
          "base_uri": "https://localhost:8080/"
        },
        "id": "2wajgecV5qAC",
        "outputId": "83f541ce-4042-49d7-b166-697f46354e0d"
      },
      "execution_count": null,
      "outputs": [
        {
          "output_type": "stream",
          "name": "stdout",
          "text": [
            "[3 8 9 1 5 2 4]\n",
            "Average: 4.571428571428571\n",
            "Variance: 7.673469387755103\n",
            "Standard deviation: 2.770102775666474\n"
          ]
        }
      ]
    },
    {
      "cell_type": "markdown",
      "source": [
        "Describe a NumPy Array in Python"
      ],
      "metadata": {
        "id": "ZENddV9P628L"
      }
    },
    {
      "cell_type": "code",
      "source": [
        "# measures of central tendency\n",
        "mean = np.mean(array_v)\n",
        "median = np.median(array_v)\n",
        "\n",
        "# measures of dispersion\n",
        "min = np.amin(array_v)\n",
        "max = np.amax(array_v)\n",
        "range = np.ptp(array_v)\n",
        "\n",
        "print(\"Descriptive analysis\")\n",
        "print(\"Array =\", array_v)\n",
        "print(\"Measures of Central Tendency\")\n",
        "print(\"Mean =\", mean)\n",
        "print(\"Median =\", median)\n",
        "print(\"Measures of Dispersion\")\n",
        "print(\"Minimum =\", min)\n",
        "print(\"Maximum =\", max)\n",
        "print(\"Range =\", range)\n",
        "print(\"Variance =\", variance_array_v)\n",
        "print(\"Standard Deviation =\", sd_array_v)"
      ],
      "metadata": {
        "colab": {
          "base_uri": "https://localhost:8080/"
        },
        "id": "HZlRgZlG6sdJ",
        "outputId": "c0240149-f4a4-491b-b611-ed98c72c6799"
      },
      "execution_count": null,
      "outputs": [
        {
          "output_type": "stream",
          "name": "stdout",
          "text": [
            "Descriptive analysis\n",
            "Array = [3 8 9 1 5 2 4]\n",
            "Measures of Central Tendency\n",
            "Mean = 4.571428571428571\n",
            "Median = 4.0\n",
            "Measures of Dispersion\n",
            "Minimum = 1\n",
            "Maximum = 9\n",
            "Range = 8\n",
            "Variance = 7.673469387755103\n",
            "Standard Deviation = 2.770102775666474\n"
          ]
        }
      ]
    },
    {
      "cell_type": "markdown",
      "source": [
        "# Questions on Polynomial"
      ],
      "metadata": {
        "id": "RxN0HksfoGGb"
      }
    },
    {
      "cell_type": "markdown",
      "source": [
        "Define a polynomial function"
      ],
      "metadata": {
        "id": "ymNoRITlsOVM"
      }
    },
    {
      "cell_type": "code",
      "source": [
        "poly = np.poly1d([1, 2, 3])\n",
        "\n",
        "print (f\"Pp1 : \\n{poly}\")\n",
        "print (\"\\nroots: \", poly.r)\n",
        "print (\"\\ncoefficients: \", poly.c)\n",
        "print (\"\\norder/degree: \", poly.o)\n"
      ],
      "metadata": {
        "colab": {
          "base_uri": "https://localhost:8080/"
        },
        "id": "pl3xKLy1sPBB",
        "outputId": "67fe18c1-2710-454b-9033-7344533fab4d"
      },
      "execution_count": null,
      "outputs": [
        {
          "output_type": "stream",
          "name": "stdout",
          "text": [
            "Pp1 : \n",
            "   2\n",
            "1 x + 2 x + 3\n",
            "\n",
            "roots:  [-1.+1.41421356j -1.-1.41421356j]\n",
            "\n",
            "coefficients:  [1 2 3]\n",
            "\n",
            "order/degree:  2\n"
          ]
        }
      ]
    },
    {
      "cell_type": "markdown",
      "source": [
        "How to add one polynomial to another using NumPy in Python?"
      ],
      "metadata": {
        "id": "OR7V2pQdtHmL"
      }
    },
    {
      "cell_type": "code",
      "source": [
        "p1 = np.poly1d([4,-1,3])\n",
        "p2 = np.poly1d([1,-2,2])\n",
        "\n",
        "sum = np.polynomial.polynomial.polyadd(p1, p2)\n",
        "\n",
        "print(sum)"
      ],
      "metadata": {
        "colab": {
          "base_uri": "https://localhost:8080/"
        },
        "id": "7bJ5V3JPtIJb",
        "outputId": "4f38cb26-3611-4e4a-bc77-81b487a9eaf3"
      },
      "execution_count": null,
      "outputs": [
        {
          "output_type": "stream",
          "name": "stdout",
          "text": [
            "[ 5. -3.  5.]\n"
          ]
        }
      ]
    },
    {
      "cell_type": "markdown",
      "source": [
        "How to subtract one polynomial to another using NumPy in Python?"
      ],
      "metadata": {
        "id": "RLkwY1h8t-Gv"
      }
    },
    {
      "cell_type": "code",
      "source": [
        "sub = np.polynomial.polynomial.polysub(p1,p2)\n",
        "\n",
        "print(sub)"
      ],
      "metadata": {
        "colab": {
          "base_uri": "https://localhost:8080/"
        },
        "id": "wlMspAFBt-21",
        "outputId": "cc5fee7e-2c32-4c7a-bcfc-040e6a84163e"
      },
      "execution_count": null,
      "outputs": [
        {
          "output_type": "stream",
          "name": "stdout",
          "text": [
            "[3. 1. 1.]\n"
          ]
        }
      ]
    },
    {
      "cell_type": "markdown",
      "source": [
        "How to multiply a polynomial to another using NumPy in Python?"
      ],
      "metadata": {
        "id": "L_G3K_J8uM6Q"
      }
    },
    {
      "cell_type": "code",
      "source": [
        "mult = np.polynomial.polynomial.polymul(p1, p2)\n",
        "print(mult)"
      ],
      "metadata": {
        "colab": {
          "base_uri": "https://localhost:8080/"
        },
        "id": "GeBpxs7tuPaJ",
        "outputId": "7cc1023b-59fa-4cf0-a24f-35fe3da3c45b"
      },
      "execution_count": null,
      "outputs": [
        {
          "output_type": "stream",
          "name": "stdout",
          "text": [
            "[ 4. -9. 13. -8.  6.]\n"
          ]
        }
      ]
    },
    {
      "cell_type": "markdown",
      "source": [
        "How to divide a polynomial to another using NumPy in Python?"
      ],
      "metadata": {
        "id": "3rU1NSh7un1q"
      }
    },
    {
      "cell_type": "code",
      "source": [
        "qdiv, rdiv = np.polynomial.polynomial.polydiv(p1, p2)\n",
        "print(f'Quociente: {qdiv}\\nResto: {rdiv}')"
      ],
      "metadata": {
        "colab": {
          "base_uri": "https://localhost:8080/"
        },
        "id": "ZhLW__92uof7",
        "outputId": "b75f98fd-0f8c-485c-d04c-cbd084156c91"
      },
      "execution_count": null,
      "outputs": [
        {
          "output_type": "stream",
          "name": "stdout",
          "text": [
            "Quociente: [1.5]\n",
            "Resto: [2.5 2. ]\n"
          ]
        }
      ]
    },
    {
      "cell_type": "markdown",
      "source": [
        "Find the roots of the polynomials using NumPy"
      ],
      "metadata": {
        "id": "bYmlWWmvvZqe"
      }
    },
    {
      "cell_type": "code",
      "source": [
        "print (\"\\nroots p1: \", p1.r)\n",
        "print (\"\\nroots p2: \", p2.r)"
      ],
      "metadata": {
        "colab": {
          "base_uri": "https://localhost:8080/"
        },
        "id": "Lwp8UUvMvaPH",
        "outputId": "532f6e3e-3be8-4ecd-900d-80696e5ef546"
      },
      "execution_count": null,
      "outputs": [
        {
          "output_type": "stream",
          "name": "stdout",
          "text": [
            "\n",
            "roots p1:  [0.125+0.85695683j 0.125-0.85695683j]\n",
            "\n",
            "roots p2:  [1.+1.j 1.-1.j]\n"
          ]
        }
      ]
    },
    {
      "cell_type": "markdown",
      "source": [
        "Evaluate a 2-D polynomial series on the Cartesian product"
      ],
      "metadata": {
        "id": "n15Kusvcv3Wr"
      }
    },
    {
      "cell_type": "code",
      "source": [
        "p2d = np.array([[1, 3, 4], [5, 4, 2]])\n",
        "ev2d = np.polynomial.polynomial.polygrid2d([7, 9], [8, 10], p2d)\n",
        "print(ev2d)"
      ],
      "metadata": {
        "colab": {
          "base_uri": "https://localhost:8080/"
        },
        "id": "AN0RAiovwHCu",
        "outputId": "761702ff-9c85-4a16-f008-c5db20c763be"
      },
      "execution_count": null,
      "outputs": [
        {
          "output_type": "stream",
          "name": "stdout",
          "text": [
            "[[1436. 2146.]\n",
            " [1766. 2636.]]\n"
          ]
        }
      ]
    },
    {
      "cell_type": "markdown",
      "source": [
        "Evaluate a 3-D polynomial series on the Cartesian product"
      ],
      "metadata": {
        "id": "ep4lFjBLv36M"
      }
    },
    {
      "cell_type": "code",
      "source": [
        "p3d = np.array([[1, 3, 4], [5, 4, 2], [10, 11, 12]])\n",
        "ev3d = np.polynomial.polynomial.polygrid3d([7, 9], [8, 10], [5, 6], p3d)\n",
        "print(ev3d)"
      ],
      "metadata": {
        "colab": {
          "base_uri": "https://localhost:8080/"
        },
        "id": "N72ai1fEwc3f",
        "outputId": "7fdaff53-fb60-4f44-fe56-25c94841ec48"
      },
      "execution_count": null,
      "outputs": [
        {
          "output_type": "stream",
          "name": "stdout",
          "text": [
            "[[403430. 475342.]\n",
            " [614606. 724162.]]\n"
          ]
        }
      ]
    },
    {
      "cell_type": "markdown",
      "source": [
        "# Questions on NumPy Strings 22"
      ],
      "metadata": {
        "id": "J0mqYKxSoMYr"
      }
    },
    {
      "cell_type": "markdown",
      "source": [
        "Repeat all the elements of a NumPy array of strings"
      ],
      "metadata": {
        "id": "rwY6JVGBJXWX"
      }
    },
    {
      "cell_type": "code",
      "source": [
        "arr_names = np.array(['Jorge', 'Paulo', 'Ruan','Adriano', 'Ronaldo', 'Joaquim'])\n",
        "\n",
        "print(arr_names)\n",
        "\n",
        "repeat_names_array = np.char.multiply(arr_names, 2)\n",
        "print(repeat_names_array)"
      ],
      "metadata": {
        "colab": {
          "base_uri": "https://localhost:8080/"
        },
        "id": "qJg1FT08JYaG",
        "outputId": "ad52ca84-d5e2-471e-a355-10cf0544d603"
      },
      "execution_count": null,
      "outputs": [
        {
          "output_type": "stream",
          "name": "stdout",
          "text": [
            "['Jorge' 'Paulo' 'Ruan' 'Adriano' 'Ronaldo' 'Joaquim']\n",
            "['JorgeJorge' 'PauloPaulo' 'RuanRuan' 'AdrianoAdriano' 'RonaldoRonaldo'\n",
            " 'JoaquimJoaquim']\n"
          ]
        }
      ]
    },
    {
      "cell_type": "markdown",
      "source": [
        "How to split the element of a given NumPy array with spaces?"
      ],
      "metadata": {
        "id": "e_iQs9NfKPYb"
      }
    },
    {
      "cell_type": "code",
      "source": [
        "sentence_string = np.array(['Bom dia, como estão todos?'])\n",
        "print(sentence_string)\n",
        "split_string = np.char.split(sentence_string)\n",
        "print(split_string)"
      ],
      "metadata": {
        "colab": {
          "base_uri": "https://localhost:8080/"
        },
        "id": "m_HPgFWJKP5D",
        "outputId": "8bcd68d8-186a-43f0-b255-8a78690c3b69"
      },
      "execution_count": null,
      "outputs": [
        {
          "output_type": "stream",
          "name": "stdout",
          "text": [
            "['Bom dia, como estão todos?']\n",
            "[list(['Bom', 'dia,', 'como', 'estão', 'todos?'])]\n"
          ]
        }
      ]
    },
    {
      "cell_type": "markdown",
      "source": [
        "How to insert a space between characters of all the elements of a given NumPy array?"
      ],
      "metadata": {
        "id": "FvgMLd7ULQsr"
      }
    },
    {
      "cell_type": "code",
      "source": [
        "# using the split string from above:\n",
        "\n",
        "print(split_string)\n",
        "\n",
        "assemble = np.char.join(' ', split_string)\n",
        "\n",
        "print(assemble)"
      ],
      "metadata": {
        "colab": {
          "base_uri": "https://localhost:8080/"
        },
        "id": "7RBAR66tLRbl",
        "outputId": "b3626b25-15c5-4d1a-a360-cc8069c00aa2"
      },
      "execution_count": null,
      "outputs": [
        {
          "output_type": "stream",
          "name": "stdout",
          "text": [
            "[list(['Bom', 'dia,', 'como', 'estão', 'todos?'])]\n",
            "['Bom dia, como estão todos?']\n"
          ]
        }
      ]
    },
    {
      "cell_type": "markdown",
      "source": [
        "Find the length of each string element in the Numpy array"
      ],
      "metadata": {
        "id": "8MsS4NNQLt6M"
      }
    },
    {
      "cell_type": "code",
      "source": [
        "#again using the names string\n",
        "print(arr_names)\n",
        "length_checker = np.vectorize(len)\n",
        "\n",
        "arr_names_len = length_checker(arr_names)\n",
        "\n",
        "print(arr_names_len)"
      ],
      "metadata": {
        "colab": {
          "base_uri": "https://localhost:8080/"
        },
        "id": "t6nBra3DLxYb",
        "outputId": "4ff2ddb3-7d71-4aca-86de-c0d06cb08180"
      },
      "execution_count": null,
      "outputs": [
        {
          "output_type": "stream",
          "name": "stdout",
          "text": [
            "['Jorge' 'Paulo' 'Ruan' 'Adriano' 'Ronaldo' 'Joaquim']\n",
            "[5 5 4 7 7 7]\n"
          ]
        }
      ]
    },
    {
      "cell_type": "markdown",
      "source": [
        "Swap the case of an array of string"
      ],
      "metadata": {
        "id": "2ec3Icb4Mc6H"
      }
    },
    {
      "cell_type": "code",
      "source": [
        "# using names string\n",
        "print(arr_names)\n",
        "swap_case_names = np.char.swapcase(arr_names)\n",
        "print(swap_case_names)\n"
      ],
      "metadata": {
        "colab": {
          "base_uri": "https://localhost:8080/"
        },
        "id": "NnEuCqCOMeEK",
        "outputId": "98aac2bc-ea87-42ec-ac1e-d7126e6ea854"
      },
      "execution_count": null,
      "outputs": [
        {
          "output_type": "stream",
          "name": "stdout",
          "text": [
            "['Jorge' 'Paulo' 'Ruan' 'Adriano' 'Ronaldo' 'Joaquim']\n",
            "['jORGE' 'pAULO' 'rUAN' 'aDRIANO' 'rONALDO' 'jOAQUIM']\n"
          ]
        }
      ]
    },
    {
      "cell_type": "markdown",
      "source": [
        "Change the case to uppercase of elements of an array"
      ],
      "metadata": {
        "id": "omLdc_l_M5R7"
      }
    },
    {
      "cell_type": "code",
      "source": [
        "# using names string\n",
        "print(arr_names)\n",
        "upper_case_names = np.char.upper(arr_names)\n",
        "print(upper_case_names)"
      ],
      "metadata": {
        "colab": {
          "base_uri": "https://localhost:8080/"
        },
        "id": "hObT_K8XM51k",
        "outputId": "84a6f0f4-bc81-43dc-a9b0-59af61e3dded"
      },
      "execution_count": null,
      "outputs": [
        {
          "output_type": "stream",
          "name": "stdout",
          "text": [
            "['Jorge' 'Paulo' 'Ruan' 'Adriano' 'Ronaldo' 'Joaquim']\n",
            "['JORGE' 'PAULO' 'RUAN' 'ADRIANO' 'RONALDO' 'JOAQUIM']\n"
          ]
        }
      ]
    },
    {
      "cell_type": "markdown",
      "source": [
        "Change the case to lowercase of elements of an array"
      ],
      "metadata": {
        "id": "Cn6DYnCwNFwj"
      }
    },
    {
      "cell_type": "code",
      "source": [
        "# using names string\n",
        "print(arr_names)\n",
        "lower_case_names = np.char.lower(arr_names)\n",
        "print(lower_case_names)"
      ],
      "metadata": {
        "colab": {
          "base_uri": "https://localhost:8080/"
        },
        "id": "4eyfv6nwNG93",
        "outputId": "cdd0bef3-3936-4294-9f01-b82567f7407d"
      },
      "execution_count": null,
      "outputs": [
        {
          "output_type": "stream",
          "name": "stdout",
          "text": [
            "['Jorge' 'Paulo' 'Ruan' 'Adriano' 'Ronaldo' 'Joaquim']\n",
            "['jorge' 'paulo' 'ruan' 'adriano' 'ronaldo' 'joaquim']\n"
          ]
        }
      ]
    },
    {
      "cell_type": "markdown",
      "source": [
        "Join String by a seperator"
      ],
      "metadata": {
        "id": "41HDexSCNFsy"
      }
    },
    {
      "cell_type": "code",
      "source": [
        "# using names string\n",
        "print(arr_names)\n",
        "sep = np.array(['-', ',', '.', '+', '_', '>'])\n",
        "join_sep_names = np.char.join(sep, arr_names)\n",
        "print(join_sep_names)"
      ],
      "metadata": {
        "colab": {
          "base_uri": "https://localhost:8080/"
        },
        "id": "iUKhdxmeNUPk",
        "outputId": "8393d9d9-d4fa-4413-e805-2de0660f11bb"
      },
      "execution_count": null,
      "outputs": [
        {
          "output_type": "stream",
          "name": "stdout",
          "text": [
            "['Jorge' 'Paulo' 'Ruan' 'Adriano' 'Ronaldo' 'Joaquim']\n",
            "['J-o-r-g-e' 'P,a,u,l,o' 'R.u.a.n' 'A+d+r+i+a+n+o' 'R_o_n_a_l_d_o'\n",
            " 'J>o>a>q>u>i>m']\n"
          ]
        }
      ]
    },
    {
      "cell_type": "markdown",
      "source": [
        "Check if two same shaped string arrayss one by one"
      ],
      "metadata": {
        "id": "RRgzACqgOf4f"
      }
    },
    {
      "cell_type": "code",
      "source": [
        "string_1 = np.array('Rafael')\n",
        "string_2 = np.array('Rafael')\n",
        "string_3 = np.array('Emilio')\n",
        "arr_names2 = np.array(['Jorge', 'Roberto', 'Ruan','João', 'Ronaldo', 'William'])\n",
        "\n",
        "print(string_1)\n",
        "print(string_2)\n",
        "check_1_2 = np.char.equal(string_1, string_2)\n",
        "print(f'Are equal? R: {check_1_2}\\n')\n",
        "\n",
        "print(string_1)\n",
        "print(string_3)\n",
        "check_1_3 = np.char.equal(string_1, string_3)\n",
        "print(f'Are equal? R: {check_1_3}\\n')\n",
        "\n",
        "print(f'Are equal?\\n{arr_names}')\n",
        "print(arr_names2)\n",
        "check_names = np.char.equal(arr_names, arr_names2)\n",
        "print(f'{check_names}\\n')"
      ],
      "metadata": {
        "colab": {
          "base_uri": "https://localhost:8080/"
        },
        "id": "cbcu5pxeOgi9",
        "outputId": "5053c830-88bc-491b-aff7-930a6a509af0"
      },
      "execution_count": null,
      "outputs": [
        {
          "output_type": "stream",
          "name": "stdout",
          "text": [
            "Rafael\n",
            "Rafael\n",
            "Are equal? R: True\n",
            "\n",
            "Rafael\n",
            "Emilio\n",
            "Are equal? R: False\n",
            "\n",
            "Are equal?\n",
            "['Jorge' 'Paulo' 'Ruan' 'Adriano' 'Ronaldo' 'Joaquim']\n",
            "['Jorge' 'Roberto' 'Ruan' 'João' 'Ronaldo' 'William']\n",
            "[ True False  True False  True False]\n",
            "\n"
          ]
        }
      ]
    },
    {
      "cell_type": "markdown",
      "source": [
        "Count the number of substrings in an array"
      ],
      "metadata": {
        "id": "j_ocEWrsQGf4"
      }
    },
    {
      "cell_type": "code",
      "source": [
        "arr_names3 = np.array(['ricardo', 'josé','arthur', 'josemar','armario'])\n",
        "print(f'count ocurrences of substring \"ar\" in each of the following:\\n{arr_names3}')\n",
        "\n",
        "count_ar = np.char.count(arr_names3, sub ='ar')\n",
        "\n",
        "print(count_ar)\n"
      ],
      "metadata": {
        "colab": {
          "base_uri": "https://localhost:8080/"
        },
        "id": "yu4BEPpcQHHk",
        "outputId": "cf082929-68e2-4d17-c7c9-cd17154bc170"
      },
      "execution_count": null,
      "outputs": [
        {
          "output_type": "stream",
          "name": "stdout",
          "text": [
            "count ocurrences of substring \"ar\" in each of the following:\n",
            "['ricardo' 'josé' 'arthur' 'josemar' 'armario']\n",
            "[1 0 1 1 2]\n"
          ]
        }
      ]
    },
    {
      "cell_type": "markdown",
      "source": [
        "Find the lowest index of the substring in an array"
      ],
      "metadata": {
        "id": "CANSDgQQRlfm"
      }
    },
    {
      "cell_type": "code",
      "source": [
        "#using same array as question above\n",
        "print(f'find the lowest index of the substring \"ar\" in each of the following:\\n{arr_names3}')\n",
        "\n",
        "low_index_ar = np.char.find(arr_names3, sub = 'ar')\n",
        "print(low_index_ar)"
      ],
      "metadata": {
        "colab": {
          "base_uri": "https://localhost:8080/"
        },
        "id": "zk-PHhjlRmEZ",
        "outputId": "3ee98800-fc33-41dc-faa7-3cb32ef7b689"
      },
      "execution_count": null,
      "outputs": [
        {
          "output_type": "stream",
          "name": "stdout",
          "text": [
            "find the lowest index of the substring \"ar\" in each of the following:\n",
            "['ricardo' 'josé' 'arthur' 'josemar' 'armario']\n",
            "[ 3 -1  0  5  0]\n"
          ]
        }
      ]
    },
    {
      "cell_type": "markdown",
      "source": [
        "Get the boolean array when values end with a particular character"
      ],
      "metadata": {
        "id": "McOuOlUNSVvQ"
      }
    },
    {
      "cell_type": "code",
      "source": [
        "arr_rimas = np.array(['pão', 'coração','bodega', 'mão','café'])\n",
        "print(f'cGet the boolean array when values end with \"ão\" \\n{arr_rimas}')\n",
        "\n",
        "ends_with_ao = np.char.endswith(arr_rimas,'ão')\n",
        "\n",
        "print(ends_with_ao)\n"
      ],
      "metadata": {
        "colab": {
          "base_uri": "https://localhost:8080/"
        },
        "id": "JifwPXNZSdvq",
        "outputId": "8ed6443b-8fff-4d2a-d76a-08698cdb1bea"
      },
      "execution_count": null,
      "outputs": [
        {
          "output_type": "stream",
          "name": "stdout",
          "text": [
            "cGet the boolean array when values end with \"ão\" \n",
            "['pão' 'coração' 'bodega' 'mão' 'café']\n",
            "[ True  True False  True False]\n"
          ]
        }
      ]
    },
    {
      "cell_type": "markdown",
      "source": [
        "# More Questions on NumPy"
      ],
      "metadata": {
        "id": "gIotqQfwTVJW"
      }
    },
    {
      "cell_type": "markdown",
      "source": [
        "Different ways to convert a Python dictionary to a NumPy array"
      ],
      "metadata": {
        "id": "jKDkxdSqTZml"
      }
    },
    {
      "cell_type": "code",
      "source": [
        "dict_names = {1: 'Maria',\n",
        "        2: 'João',\n",
        "        3: 'Adriano',\n",
        "        4: 'Fernando'}\n",
        "print(dict_names)\n",
        "\n",
        "# convert to list than create array\n",
        "itens = dict_names.items()\n",
        "data = list(itens)\n",
        "array_np_dict = np.array(data)\n",
        "print('\\n', array_np_dict)\n"
      ],
      "metadata": {
        "colab": {
          "base_uri": "https://localhost:8080/"
        },
        "id": "_1X6qtEFNWst",
        "outputId": "0f1eff55-dcdb-4a61-cb5a-a8fbee8cd716"
      },
      "execution_count": null,
      "outputs": [
        {
          "output_type": "stream",
          "name": "stdout",
          "text": [
            "{1: 'Maria', 2: 'João', 3: 'Adriano', 4: 'Fernando'}\n",
            "\n",
            " [['1' 'Maria']\n",
            " ['2' 'João']\n",
            " ['3' 'Adriano']\n",
            " ['4' 'Fernando']]\n"
          ]
        }
      ]
    },
    {
      "cell_type": "markdown",
      "source": [
        "How to convert a list and tuple into NumPy arrays?"
      ],
      "metadata": {
        "id": "LAJAQyrETa_J"
      }
    },
    {
      "cell_type": "code",
      "source": [
        "list_conv = [7, 8, 9, 10, 11, 12]\n",
        "tuple_conv = ([1, 2, 3],[4, 5, 6])\n",
        "print(f'list: {list_conv}\\ntuple: {tuple_conv}\\n')\n",
        "\n",
        "array_conv1 = np.asarray(list_conv)\n",
        "array_conv2 = np.asarray(tuple_conv)\n",
        "\n",
        "print(f'list to array: {array_conv1}\\ntuple to array: \\n{array_conv2}')"
      ],
      "metadata": {
        "colab": {
          "base_uri": "https://localhost:8080/"
        },
        "id": "lxSOt_ezH2aw",
        "outputId": "9f44f498-c37c-4101-aa17-2786729e0fbc"
      },
      "execution_count": null,
      "outputs": [
        {
          "output_type": "stream",
          "name": "stdout",
          "text": [
            "list: [7, 8, 9, 10, 11, 12]\n",
            "tuple: ([1, 2, 3], [4, 5, 6])\n",
            "\n",
            "list to array: [ 7  8  9 10 11 12]\n",
            "tuple to array: \n",
            "[[1 2 3]\n",
            " [4 5 6]]\n"
          ]
        }
      ]
    },
    {
      "cell_type": "markdown",
      "source": [
        "Ways to convert array of strings to array of floats"
      ],
      "metadata": {
        "id": "uL3aU_8rTcnp"
      }
    },
    {
      "cell_type": "code",
      "source": [
        "string_float_array = np.array([\"7.1\", \"3.2\", \"4.0\", \"2.20\",\"9.75\"])\n",
        "\n",
        "print(f'string array: {string_float_array}')\n",
        "\n",
        "float_conv_array = string_float_array.astype(float)\n",
        "\n",
        "print(f'string float: {float_conv_array}')\n"
      ],
      "metadata": {
        "colab": {
          "base_uri": "https://localhost:8080/"
        },
        "id": "nsMIXRxXJ6cW",
        "outputId": "fd932690-ae41-4814-c817-07a641a2d52b"
      },
      "execution_count": null,
      "outputs": [
        {
          "output_type": "stream",
          "name": "stdout",
          "text": [
            "string array: ['7.1' '3.2' '4.0' '2.20' '9.75']\n",
            "string float: [7.1  3.2  4.   2.2  9.75]\n"
          ]
        }
      ]
    },
    {
      "cell_type": "markdown",
      "source": [
        "Convert a NumPy array into a csv file"
      ],
      "metadata": {
        "id": "W1ooIDO5TeQW"
      }
    },
    {
      "cell_type": "code",
      "source": [
        "# convert array_conv2 to csv\n",
        "\n",
        "print(array_conv2)\n",
        "DF = pd.DataFrame(array_conv2)\n",
        "DF.to_csv(\"array.csv\")"
      ],
      "metadata": {
        "colab": {
          "base_uri": "https://localhost:8080/"
        },
        "id": "GYuNL5eaJPJ7",
        "outputId": "f21cedb3-0832-4eff-c33a-6cff1d2adf6d"
      },
      "execution_count": null,
      "outputs": [
        {
          "output_type": "stream",
          "name": "stdout",
          "text": [
            "[[1 2 3]\n",
            " [4 5 6]]\n"
          ]
        }
      ]
    },
    {
      "cell_type": "markdown",
      "source": [
        "How to save a NumPy array to a text file?"
      ],
      "metadata": {
        "id": "Jl_cPsDRTiaR"
      }
    },
    {
      "cell_type": "code",
      "source": [
        "txt_array = np.arange(10, 30, 2)\n",
        "print(txt_array)\n",
        "\n",
        "file = open(\"array.txt\", \"w+\")\n",
        "\n",
        "# Saving the array in a text file\n",
        "content = str(txt_array)\n",
        "file.write(content)\n",
        "file.close()\n"
      ],
      "metadata": {
        "colab": {
          "base_uri": "https://localhost:8080/"
        },
        "id": "_TjoRO_pG7vH",
        "outputId": "b4b35a9f-d6a0-4a17-9bd0-0b6a6261556f"
      },
      "execution_count": null,
      "outputs": [
        {
          "output_type": "stream",
          "name": "stdout",
          "text": [
            "[10 12 14 16 18 20 22 24 26 28]\n"
          ]
        }
      ]
    },
    {
      "cell_type": "markdown",
      "source": [
        "Load data from a text file"
      ],
      "metadata": {
        "id": "tTPH0xj9Tj01"
      }
    },
    {
      "cell_type": "code",
      "source": [
        "file = open(\"array.txt\", \"r\")\n",
        "content2 = file.read()\n",
        "\n",
        "print(\"\\nContent in array.txt:\\n\", content2)\n",
        "file.close()"
      ],
      "metadata": {
        "colab": {
          "base_uri": "https://localhost:8080/"
        },
        "id": "eFUq1DYnHWJ2",
        "outputId": "3d0e2a05-27af-4530-db70-5175bfc18148"
      },
      "execution_count": null,
      "outputs": [
        {
          "output_type": "stream",
          "name": "stdout",
          "text": [
            "\n",
            "Content in array.txt:\n",
            " [10 12 14 16 18 20 22 24 26 28]\n"
          ]
        }
      ]
    },
    {
      "cell_type": "markdown",
      "source": [
        "Plot line graph from NumPy array"
      ],
      "metadata": {
        "id": "BmPEn02STl2D"
      }
    },
    {
      "cell_type": "code",
      "source": [
        "x = np.arange(1, 21)\n",
        "y = x * x\n",
        "\n",
        "plt.title(\"Line graph\")\n",
        "plt.xlabel(\"X axis\")\n",
        "plt.ylabel(\"Y axis\")\n",
        "plt.plot(x, y, color =\"green\")\n",
        "plt.show()"
      ],
      "metadata": {
        "colab": {
          "base_uri": "https://localhost:8080/",
          "height": 472
        },
        "id": "_aaT41-vKxKk",
        "outputId": "e7160ffe-9f21-42c7-8dbe-254aba143d21"
      },
      "execution_count": null,
      "outputs": [
        {
          "output_type": "display_data",
          "data": {
            "text/plain": [
              "<Figure size 640x480 with 1 Axes>"
            ],
            "image/png": "[encoded data removed]"
          },
          "metadata": {}
        }
      ]
    },
    {
      "cell_type": "markdown",
      "source": [
        "Create Histogram using NumPy"
      ],
      "metadata": {
        "id": "IwF3XxWGTnXG"
      }
    },
    {
      "cell_type": "code",
      "source": [
        "a = np.random.randint(100, size =(50))\n",
        "\n",
        "# Creating plot\n",
        "fig = plt.figure(figsize =(10, 7))\n",
        "\n",
        "plt.hist(a, bins = [0, 10, 20, 30,\n",
        "                    40, 50, 60, 70,\n",
        "                    80, 90, 100])\n",
        "\n",
        "plt.title(\"Numpy Histogram\")\n",
        "\n",
        "# show plot\n",
        "plt.show()"
      ],
      "metadata": {
        "colab": {
          "base_uri": "https://localhost:8080/",
          "height": 622
        },
        "id": "3h4z3VVOMAPX",
        "outputId": "54d2b82a-09f6-4948-87c6-6016b7720ebb"
      },
      "execution_count": null,
      "outputs": [
        {
          "output_type": "display_data",
          "data": {
            "text/plain": [
              "<Figure size 1000x700 with 1 Axes>"
            ],
            "image/png": "[encoded data removed]"
          },
          "metadata": {}
        }
      ]
    }
  ]
}